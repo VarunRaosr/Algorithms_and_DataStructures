{
 "cells": [
  {
   "cell_type": "code",
   "execution_count": 13,
   "metadata": {},
   "outputs": [
    {
     "name": "stdout",
     "output_type": "stream",
     "text": [
      "-----------------Union------------------\n",
      "2 4 8 10 15 20 \n",
      "--------------intersection--------------\n",
      "10 4 "
     ]
    }
   ],
   "source": [
    "def make_hash(arr1,arr2):\n",
    "    d = {k:[] for k in range(10)}\n",
    "    for ele in arr1:\n",
    "        d[ele%10].append(ele)\n",
    "    for ele in arr2:\n",
    "        d[ele%10].append(ele)\n",
    "    return d\n",
    "\n",
    "def get_union_intersection(arr1,arr2):\n",
    "    d = make_hash(arr1,arr2)\n",
    "    keys = [i for i in range(10)]\n",
    "    union = set()\n",
    "    intersection = set()\n",
    "    for key in keys:\n",
    "        for ele in d[key]:\n",
    "            if d[key].count(ele)==2:\n",
    "                \n",
    "                intersection.add(ele)\n",
    "            union.add(ele)\n",
    "    return union,intersection\n",
    "\n",
    "array1 = [10, 15, 4, 20 ]\n",
    "array2 = [8, 4, 2, 10]\n",
    "u,i = get_union_intersection(array1,array2)\n",
    "\n",
    "print(\"Union\".center(40,'-'))\n",
    "for element in u:\n",
    "    print(element,end= \" \")\n",
    "print()\n",
    "print(\"intersection\".center(40,'-'))\n",
    "for element in i:\n",
    "    print(element,end= \" \")"
   ]
  },
  {
   "cell_type": "code",
   "execution_count": 18,
   "metadata": {},
   "outputs": [
    {
     "name": "stdout",
     "output_type": "stream",
     "text": [
      "10 15 4 20 8 2 \n"
     ]
    }
   ],
   "source": [
    "# Alternate Implementation\n",
    "def get_union(arr1,arr2):\n",
    "    result = []\n",
    "    d = {k:[] for k in range(10)}\n",
    "    for ele in arr1:\n",
    "        if ele not in d[ele%10]:\n",
    "            result.append(ele)\n",
    "        d[ele%10].append(ele)\n",
    "    for ele in arr2:\n",
    "        if ele not in d[ele%10]:\n",
    "            result.append(ele)\n",
    "        d[ele%10].append(ele)\n",
    "            \n",
    "    for ele in result:\n",
    "        print(ele,end=\" \")\n",
    "    print()\n",
    "    \n",
    "get_union(array1,array2)"
   ]
  },
  {
   "cell_type": "code",
   "execution_count": 21,
   "metadata": {},
   "outputs": [
    {
     "name": "stdout",
     "output_type": "stream",
     "text": [
      "4 10 \n"
     ]
    }
   ],
   "source": [
    "def get_intersection(arr1,arr2):\n",
    "    result = []\n",
    "    d = {k:[] for k in range(10)}\n",
    "    for ele in arr1:\n",
    "        if ele in d[ele%10]:\n",
    "            result.append(ele)\n",
    "        d[ele%10].append(ele)\n",
    "    \n",
    "    for ele in arr2:\n",
    "        if ele in d[ele%10]:\n",
    "            result.append(ele)\n",
    "        d[ele%10].append(ele)\n",
    "    \n",
    "    for ele in result:\n",
    "        print(ele,end=\" \")\n",
    "    print()\n",
    "get_intersection(array1,array2)"
   ]
  }
 ],
 "metadata": {
  "kernelspec": {
   "display_name": "Python 3",
   "language": "python",
   "name": "python3"
  },
  "language_info": {
   "codemirror_mode": {
    "name": "ipython",
    "version": 3
   },
   "file_extension": ".py",
   "mimetype": "text/x-python",
   "name": "python",
   "nbconvert_exporter": "python",
   "pygments_lexer": "ipython3",
   "version": "3.6.6"
  }
 },
 "nbformat": 4,
 "nbformat_minor": 2
}
