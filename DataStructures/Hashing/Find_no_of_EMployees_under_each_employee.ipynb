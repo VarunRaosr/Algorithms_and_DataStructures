{
 "cells": [
  {
   "cell_type": "code",
   "execution_count": 5,
   "metadata": {},
   "outputs": [
    {
     "name": "stdout",
     "output_type": "stream",
     "text": [
      "Manager is : C for employees -> A B \n",
      "Manager is : E for employees -> D \n",
      "Manager is : F for employees -> C E F \n"
     ]
    }
   ],
   "source": [
    "def find_employees(d):\n",
    "    res = {k:[] for k in d.keys()}\n",
    "    for employee in d.keys():\n",
    "        res[d[employee]].append(employee)\n",
    "        \n",
    "    for k in d.keys():\n",
    "        if len(res[k])>0:\n",
    "            print(\"Manager is :\",k,end= \" for employees -> \")\n",
    "            for emp in res[k]:\n",
    "                print(emp,end=\" \")\n",
    "            print()\n",
    "\n",
    "\n",
    "dataset ={ \"A\": \"C\" ,\n",
    " \"B\": \"C\" ,\n",
    " \"C\": \"F\" ,\n",
    " \"D\": \"E\" ,\n",
    " \"E\": \"F\" ,\n",
    " \"F\": \"F\" } \n",
    "\n",
    "find_employees(dataset)"
   ]
  }
 ],
 "metadata": {
  "kernelspec": {
   "display_name": "Python 3",
   "language": "python",
   "name": "python3"
  },
  "language_info": {
   "codemirror_mode": {
    "name": "ipython",
    "version": 3
   },
   "file_extension": ".py",
   "mimetype": "text/x-python",
   "name": "python",
   "nbconvert_exporter": "python",
   "pygments_lexer": "ipython3",
   "version": "3.6.6"
  }
 },
 "nbformat": 4,
 "nbformat_minor": 2
}
