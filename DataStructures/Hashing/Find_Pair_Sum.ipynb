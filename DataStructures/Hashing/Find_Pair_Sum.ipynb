{
 "cells": [
  {
   "cell_type": "code",
   "execution_count": 1,
   "metadata": {},
   "outputs": [
    {
     "name": "stdout",
     "output_type": "stream",
     "text": [
      "10  and  6\n"
     ]
    }
   ],
   "source": [
    "def sum_pairs(arr,total):\n",
    "    s = set()\n",
    "    \n",
    "    for i in range(0,len(arr)):\n",
    "        temp = total - arr[i]\n",
    "        if temp >= 0 and temp in s:\n",
    "            print(arr[i],\" and \",temp)\n",
    "        s.add(arr[i])\n",
    "        \n",
    "A = [1,4,45,6,10,8] \n",
    "sum_pairs(A,16)"
   ]
  },
  {
   "cell_type": "code",
   "execution_count": 2,
   "metadata": {},
   "outputs": [
    {
     "name": "stdout",
     "output_type": "stream",
     "text": [
      "10  and  6\n"
     ]
    }
   ],
   "source": [
    "def pair_sum(arr,total):\n",
    "    ''' using a hash table '''\n",
    "    d = {k:[] for k in range(10)}\n",
    "    for ele in arr:\n",
    "        temp = total - ele\n",
    "        if temp in d[temp%10]:\n",
    "            print(ele,\" and \",temp)\n",
    "        d[ele%10].append(ele)\n",
    "        \n",
    "pair_sum(A,16)"
   ]
  }
 ],
 "metadata": {
  "kernelspec": {
   "display_name": "Python 3",
   "language": "python",
   "name": "python3"
  },
  "language_info": {
   "codemirror_mode": {
    "name": "ipython",
    "version": 3
   },
   "file_extension": ".py",
   "mimetype": "text/x-python",
   "name": "python",
   "nbconvert_exporter": "python",
   "pygments_lexer": "ipython3",
   "version": "3.6.6"
  }
 },
 "nbformat": 4,
 "nbformat_minor": 2
}
