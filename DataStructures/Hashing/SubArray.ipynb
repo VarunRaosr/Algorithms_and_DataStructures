{
 "cells": [
  {
   "cell_type": "code",
   "execution_count": 11,
   "metadata": {},
   "outputs": [
    {
     "data": {
      "text/plain": [
       "True"
      ]
     },
     "execution_count": 11,
     "metadata": {},
     "output_type": "execute_result"
    }
   ],
   "source": [
    "class Node:\n",
    "    def __init__(self,data):\n",
    "        self.key = data\n",
    "        self.next = None\n",
    "        \n",
    "class LinkedList:\n",
    "    def __init__(self):\n",
    "        self.head = None\n",
    "        \n",
    "    def isEmpty(self):\n",
    "        return self.head == None\n",
    "    \n",
    "    def push(self,data):\n",
    "        if self.head is None:\n",
    "            self.head = Node(data)\n",
    "        else:\n",
    "            node = Node(data)\n",
    "            temp = self.head\n",
    "            node.next = temp\n",
    "            self.head = node\n",
    "            \n",
    "# commented code is to try and insert data in sorted fashion to save time in comparison in make_hash function\n",
    "#             if temp.key < data:\n",
    "#                 node.next = temp\n",
    "#                 self.head = node\n",
    "#                 return\n",
    "#             prev = self.head\n",
    "#             while temp!= None and temp.key > data:\n",
    "#                 temp = temp.next\n",
    "#                 prev = temp\n",
    "            \n",
    "#             prev.next = node\n",
    "#             node.next = temp\n",
    "        \n",
    "    def search(self,data):\n",
    "        if self.head is not None:\n",
    "            temp = self.head\n",
    "            while temp:\n",
    "                if temp.key == data:\n",
    "                    return True\n",
    "                temp = temp.next\n",
    "            return False\n",
    "        return False\n",
    "    \n",
    "    def printlist(self):\n",
    "        if self.head is not None:\n",
    "            temp = self.head\n",
    "            while temp:\n",
    "                print(temp.key)\n",
    "                temp = temp.next\n",
    "                \n",
    "                \n",
    "def check_subarray(arr1,arr2):\n",
    "    if len(arr1)>len(arr2):\n",
    "        return make_hash(arr1,arr2)\n",
    "    else:\n",
    "        return make_hash(arr2,arr1)\n",
    "\n",
    "def make_hash(arr1,arr2):\n",
    "    d = {0:LinkedList(),1:LinkedList(),2:LinkedList(),3:LinkedList(),4:LinkedList()}\n",
    "    for ele in arr1:\n",
    "        d[ele%5].push(ele)\n",
    "    for ele in arr2:\n",
    "        if d[ele%5].search(ele) is False:\n",
    "            return False\n",
    "    return True\n",
    "        \n",
    "array1 = [11, 1, 13, 21, 3, 7]\n",
    "array2 = [11, 3, 7, 1]\n",
    "\n",
    "check_subarray(array1,array2)"
   ]
  }
 ],
 "metadata": {
  "kernelspec": {
   "display_name": "Python 3",
   "language": "python",
   "name": "python3"
  },
  "language_info": {
   "codemirror_mode": {
    "name": "ipython",
    "version": 3
   },
   "file_extension": ".py",
   "mimetype": "text/x-python",
   "name": "python",
   "nbconvert_exporter": "python",
   "pygments_lexer": "ipython3",
   "version": "3.6.6"
  }
 },
 "nbformat": 4,
 "nbformat_minor": 2
}
