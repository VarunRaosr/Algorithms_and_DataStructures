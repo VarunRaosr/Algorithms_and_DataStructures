{
 "cells": [
  {
   "cell_type": "code",
   "execution_count": 11,
   "metadata": {},
   "outputs": [
    {
     "name": "stdout",
     "output_type": "stream",
     "text": [
      "{-2: [4], -1: [5], 0: [2, 6, 9], 1: [7], 2: [10]}\n",
      "[-2, -1, 0, 1, 2]\n",
      "4 \n",
      "5 \n",
      "2 6 9 \n",
      "7 \n",
      "10 \n"
     ]
    }
   ],
   "source": [
    "class TreeNode:\n",
    "    def __init__(self,data):\n",
    "        self.key = data\n",
    "        self.left = None\n",
    "        self.right = None\n",
    "        \n",
    "def get_tree(root,level,stck):\n",
    "    if root is not None:\n",
    "        get_tree(root.left,level-1,stck)\n",
    "        if stck.get(level,[])==[]:\n",
    "            stck[level] = [root.key]\n",
    "        else:\n",
    "            stck[level].append(root.key)\n",
    "        get_tree(root.right,level+1,stck)\n",
    "        return stck\n",
    "    \n",
    "def printTree(root):\n",
    "    stck = {}\n",
    "    stck = get_tree(root,0,stck)\n",
    "    print(stck)\n",
    "    keys = sorted(list(stck.keys()))\n",
    "    print(keys)\n",
    "    for k in keys:\n",
    "        for ele in stck[k]:\n",
    "            print(ele,end=\" \")\n",
    "        print()\n",
    "\n",
    "root = TreeNode(6)\n",
    "root.left = TreeNode(5)\n",
    "root.right = TreeNode(7)\n",
    "root.left.left = TreeNode(4)\n",
    "root.left.right = TreeNode(2)\n",
    "root.right.left = TreeNode(9)\n",
    "root.right.right = TreeNode(10)\n",
    "\n",
    "printTree(root)"
   ]
  }
 ],
 "metadata": {
  "kernelspec": {
   "display_name": "Python 3",
   "language": "python",
   "name": "python3"
  },
  "language_info": {
   "codemirror_mode": {
    "name": "ipython",
    "version": 3
   },
   "file_extension": ".py",
   "mimetype": "text/x-python",
   "name": "python",
   "nbconvert_exporter": "python",
   "pygments_lexer": "ipython3",
   "version": "3.6.6"
  }
 },
 "nbformat": 4,
 "nbformat_minor": 2
}
