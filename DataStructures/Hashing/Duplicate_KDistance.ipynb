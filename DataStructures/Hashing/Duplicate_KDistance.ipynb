{
 "cells": [
  {
   "cell_type": "code",
   "execution_count": 14,
   "metadata": {},
   "outputs": [
    {
     "data": {
      "text/plain": [
       "False"
      ]
     },
     "execution_count": 14,
     "metadata": {},
     "output_type": "execute_result"
    }
   ],
   "source": [
    "def findDuplicates(arr,k):\n",
    "    elements = set()\n",
    "    for i in range(len(arr)):\n",
    "\n",
    "        if arr[i] in elements:\n",
    "            return True\n",
    "        else:\n",
    "            elements.add(arr[i])\n",
    "        if i>=k:\n",
    "            elements.remove(arr[i-k])\n",
    "        \n",
    "    return False\n",
    "\n",
    "A = [1, 2, 3, 4, 1, 2, 3, 4]\n",
    "findDuplicates(A,3)"
   ]
  }
 ],
 "metadata": {
  "kernelspec": {
   "display_name": "Python 3",
   "language": "python",
   "name": "python3"
  },
  "language_info": {
   "codemirror_mode": {
    "name": "ipython",
    "version": 3
   },
   "file_extension": ".py",
   "mimetype": "text/x-python",
   "name": "python",
   "nbconvert_exporter": "python",
   "pygments_lexer": "ipython3",
   "version": "3.6.6"
  }
 },
 "nbformat": 4,
 "nbformat_minor": 2
}
