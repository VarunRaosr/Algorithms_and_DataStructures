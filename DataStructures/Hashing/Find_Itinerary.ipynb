{
 "cells": [
  {
   "cell_type": "code",
   "execution_count": 9,
   "metadata": {},
   "outputs": [
    {
     "name": "stdout",
     "output_type": "stream",
     "text": [
      "Bombay -> Delhi -> Goa -> Chennai -> Banglore -> "
     ]
    }
   ],
   "source": [
    "def print_itinerary(d):\n",
    "    start = set(dataset.keys())\n",
    "    end = set(dataset.values())\n",
    "    begin = \"\"\n",
    "    for city in start:\n",
    "        if city not in end:\n",
    "            begin = city\n",
    "            break\n",
    "    if begin == \"\":\n",
    "        print(\"Invalid input\")\n",
    "        return\n",
    "    else:\n",
    "        print(begin,end=\" -> \")\n",
    "        for i in range(len(start)):\n",
    "            print(d[begin],end=\" -> \")\n",
    "            begin = d[begin]\n",
    "        \n",
    "\n",
    "dataset = {\"Chennai\":\"Banglore\",\n",
    "\"Bombay\":\"Delhi\",\n",
    "\"Goa\": \"Chennai\",\n",
    "\"Delhi\": \"Goa\"} \n",
    "  \n",
    "print_itinerary(dataset)"
   ]
  }
 ],
 "metadata": {
  "kernelspec": {
   "display_name": "Python 3",
   "language": "python",
   "name": "python3"
  },
  "language_info": {
   "codemirror_mode": {
    "name": "ipython",
    "version": 3
   },
   "file_extension": ".py",
   "mimetype": "text/x-python",
   "name": "python",
   "nbconvert_exporter": "python",
   "pygments_lexer": "ipython3",
   "version": "3.6.6"
  }
 },
 "nbformat": 4,
 "nbformat_minor": 2
}
