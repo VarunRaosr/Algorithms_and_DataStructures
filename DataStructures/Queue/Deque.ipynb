{
 "cells": [
  {
   "cell_type": "code",
   "execution_count": 14,
   "metadata": {},
   "outputs": [
    {
     "data": {
      "text/plain": [
       "[6, 5, 4]"
      ]
     },
     "execution_count": 14,
     "metadata": {},
     "output_type": "execute_result"
    }
   ],
   "source": [
    "# Deque\n",
    "# insertFront() deleteFront() insertRear() deleteRear()\n",
    "# getFront() getRear() isEmpty() isFull()\n",
    "\n",
    "class Deque:\n",
    "    \n",
    "    def __init__(self,capacity):\n",
    "        self.items = []\n",
    "        self.capacity = capacity\n",
    "        self.size = 0\n",
    "        \n",
    "    def isEmpty(self):\n",
    "        return self.items == []\n",
    "    \n",
    "    def isFull(self):\n",
    "        return self.size==self.capacity\n",
    "        \n",
    "    def getFront(self):\n",
    "        if self.isEmpty():\n",
    "            return\n",
    "        return self.items[0]\n",
    "    \n",
    "    def getRear(self):\n",
    "        if self.isEmpty():\n",
    "            return\n",
    "        return self.items[size]-1\n",
    "    \n",
    "    def insertFront(self,data):\n",
    "        if self.isFull():\n",
    "            return\n",
    "        self.items.insert(0,data)\n",
    "        self.size += 1\n",
    "        \n",
    "    def insertLast(self,data):\n",
    "        if self.isFull():\n",
    "            return\n",
    "        self.items.append(data)\n",
    "        self.size += 1\n",
    "        \n",
    "    def deletefront(self):\n",
    "        if self.isEmpty():\n",
    "            return\n",
    "        self.items.pop(0)\n",
    "        self.size -= 1\n",
    "        \n",
    "    def deleteLast(self):\n",
    "        if self.isEmpty():\n",
    "            return\n",
    "        self.items.pop()\n",
    "        self.size -= 1\n",
    "        \n",
    "d = Deque(5)\n",
    "for ele in range(1,7):\n",
    "    d.insertFront(ele)\n",
    "    if ele%2==0:\n",
    "        d.deleteLast()\n",
    "d.items"
   ]
  },
  {
   "cell_type": "code",
   "execution_count": null,
   "metadata": {},
   "outputs": [],
   "source": []
  }
 ],
 "metadata": {
  "kernelspec": {
   "display_name": "Python 3",
   "language": "python",
   "name": "python3"
  },
  "language_info": {
   "codemirror_mode": {
    "name": "ipython",
    "version": 3
   },
   "file_extension": ".py",
   "mimetype": "text/x-python",
   "name": "python",
   "nbconvert_exporter": "python",
   "pygments_lexer": "ipython3",
   "version": "3.6.6"
  }
 },
 "nbformat": 4,
 "nbformat_minor": 2
}
