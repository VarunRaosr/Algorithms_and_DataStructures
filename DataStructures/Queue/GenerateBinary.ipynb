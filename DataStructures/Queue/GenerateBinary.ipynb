{
 "cells": [
  {
   "cell_type": "code",
   "execution_count": 18,
   "metadata": {},
   "outputs": [
    {
     "name": "stdout",
     "output_type": "stream",
     "text": [
      "1\n",
      "10\n",
      "11\n",
      "100\n",
      "101\n",
      "110\n",
      "111\n"
     ]
    }
   ],
   "source": [
    "def generate_binary(n):\n",
    "    \n",
    "    q = Queue(n*2)\n",
    "    \n",
    "    q.enqueue(\"1\")\n",
    "    \n",
    "    while n>0:\n",
    "        s1 = q.dequeue()\n",
    "        s2 = s1\n",
    "        \n",
    "        print(s1)\n",
    "        q.enqueue(s2+\"0\")\n",
    "        q.enqueue(s2+\"1\")\n",
    "        \n",
    "        n -= 1\n",
    "\n",
    "generate_binary(7)"
   ]
  },
  {
   "cell_type": "code",
   "execution_count": 10,
   "metadata": {
    "collapsed": true
   },
   "outputs": [],
   "source": [
    "class Queue:\n",
    "    \n",
    "    def __init__(self,capacity):\n",
    "        self.items = []\n",
    "        self.capacity = capacity\n",
    "        \n",
    "    def isEmpty(self):\n",
    "        return len(self.items)==0\n",
    "    \n",
    "    def isFull(self):\n",
    "        return len(self.items)==self.capacity\n",
    "    \n",
    "    def enqueue(self,data):\n",
    "        if self.isFull():\n",
    "            print(\"Queue is full\")\n",
    "        else:\n",
    "            self.items.append(data)\n",
    "    \n",
    "    def dequeue(self):\n",
    "        if not self.isEmpty():\n",
    "            return self.items.pop(0)\n",
    "        \n",
    "    def size(self):\n",
    "        return len(self.items)\n",
    "\n",
    "    def printQueue(self):\n",
    "        for ele in self.items:\n",
    "            print(ele,end=\" \")\n",
    "        print()\n",
    "        \n",
    "    def rear(self):\n",
    "        if self.isEmpty():\n",
    "            return\n",
    "        return self.items[self.size()-1]\n",
    "    \n",
    "    def front(self):\n",
    "        if self.isEmpty():\n",
    "            return\n",
    "        return self.items[0]\n"
   ]
  }
 ],
 "metadata": {
  "kernelspec": {
   "display_name": "Python 3",
   "language": "python",
   "name": "python3"
  },
  "language_info": {
   "codemirror_mode": {
    "name": "ipython",
    "version": 3
   },
   "file_extension": ".py",
   "mimetype": "text/x-python",
   "name": "python",
   "nbconvert_exporter": "python",
   "pygments_lexer": "ipython3",
   "version": "3.6.6"
  }
 },
 "nbformat": 4,
 "nbformat_minor": 2
}
