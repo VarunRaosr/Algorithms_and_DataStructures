{
 "cells": [
  {
   "cell_type": "code",
   "execution_count": 1,
   "metadata": {},
   "outputs": [
    {
     "name": "stdout",
     "output_type": "stream",
     "text": [
      "[1, 2, 3, 4, 5, 6, 7, 8][]\n",
      "1\n",
      "2\n",
      "3\n",
      "4\n"
     ]
    }
   ],
   "source": [
    "class Stack:\n",
    "    def __init__(self):\n",
    "        self.items = []\n",
    "        \n",
    "    def isEmpty(self):\n",
    "        return len(self.items) == 0\n",
    "    \n",
    "    def push(self,data):\n",
    "        self.items.append(data)\n",
    "        \n",
    "    def pop(self):\n",
    "        if not self.isEmpty():\n",
    "            return self.items.pop(0)\n",
    "        \n",
    "    def size(self):\n",
    "        return len(self.items)\n",
    "            \n",
    "class QueueFromStack:\n",
    "    \n",
    "    def __init__(self,capacity):\n",
    "        self.stck1 = Stack()\n",
    "        self.stck2 = Stack()\n",
    "        self.capacity = capacity\n",
    "        \n",
    "    \n",
    "    def enqueue(self,data):\n",
    "        if self.stck1.size() < self.capacity:\n",
    "            self.stck1.push(data)\n",
    "    \n",
    "    def dequeue(self):\n",
    "        if not self.stck2.isEmpty():\n",
    "            return self.stck2.pop()\n",
    "        else:\n",
    "            if not self.stck1.isEmpty():\n",
    "                while not self.stck1.isEmpty():\n",
    "                    self.stck2.push(self.stck1.pop())\n",
    "            else:\n",
    "                print(\"Queue is empty !\")\n",
    "        return self.stck2.pop()\n",
    "    \n",
    "    def printQueue(self):\n",
    "        print(self.stck1.items,end=\"\")\n",
    "        print(self.stck2.items)\n",
    "        \n",
    "q = QueueFromStack(10)\n",
    "\n",
    "for ele in range(1,9):\n",
    "    q.enqueue(ele)\n",
    "\n",
    "q.printQueue()\n",
    "for _ in range(4):\n",
    "    print(q.dequeue())\n"
   ]
  }
 ],
 "metadata": {
  "kernelspec": {
   "display_name": "Python 3",
   "language": "python",
   "name": "python3"
  },
  "language_info": {
   "codemirror_mode": {
    "name": "ipython",
    "version": 3
   },
   "file_extension": ".py",
   "mimetype": "text/x-python",
   "name": "python",
   "nbconvert_exporter": "python",
   "pygments_lexer": "ipython3",
   "version": "3.6.6"
  }
 },
 "nbformat": 4,
 "nbformat_minor": 2
}
