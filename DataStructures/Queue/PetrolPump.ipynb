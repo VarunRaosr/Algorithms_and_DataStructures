{
 "cells": [
  {
   "cell_type": "code",
   "execution_count": 21,
   "metadata": {},
   "outputs": [
    {
     "data": {
      "text/plain": [
       "3"
      ]
     },
     "execution_count": 21,
     "metadata": {},
     "output_type": "execute_result"
    }
   ],
   "source": [
    "class PetrolPump:\n",
    "    def __init__(self,petrol,distance):\n",
    "        self.petrol = petrol\n",
    "        self.distance = distance\n",
    "\n",
    "def printTour(array):\n",
    "    start = 0\n",
    "    n = len(array)\n",
    "    end = n-1\n",
    "    count = 0\n",
    "    \n",
    "    while start!= end:\n",
    "        count = 0\n",
    "        ptr = (start+1)%n\n",
    "        curr_petrol = array[ptr].petrol - array[ptr].distance\n",
    "        while curr_petrol>0 and ptr!=start:\n",
    "            if count == end-1:\n",
    "                return ptr\n",
    "            ptr = (ptr+1)%n\n",
    "            curr_petrol += array[ptr].petrol - array[ptr].distance\n",
    "            count += 1\n",
    "        start += 1\n",
    "    return -1\n",
    "        \n",
    "arr = [PetrolPump(4,5),PetrolPump(4,5),PetrolPump(4,5),PetrolPump(6,4), PetrolPump(3,6), PetrolPump(7,3)] \n",
    "start = printTour(arr) \n",
    "start\n"
   ]
  },
  {
   "cell_type": "code",
   "execution_count": 36,
   "metadata": {},
   "outputs": [
    {
     "data": {
      "text/plain": [
       "[78, 90, 90, 90, 89]"
      ]
     },
     "execution_count": 36,
     "metadata": {},
     "output_type": "execute_result"
    }
   ],
   "source": [
    "# Maximum of all subarrays of size k\n",
    "\n",
    "arr = [12, 1, 78, 90, 57, 89, 56]\n",
    "[max(arr[i-3:i]) for i in [i for i in range(3,len(arr)+1)]]"
   ]
  }
 ],
 "metadata": {
  "kernelspec": {
   "display_name": "Python 3",
   "language": "python",
   "name": "python3"
  },
  "language_info": {
   "codemirror_mode": {
    "name": "ipython",
    "version": 3
   },
   "file_extension": ".py",
   "mimetype": "text/x-python",
   "name": "python",
   "nbconvert_exporter": "python",
   "pygments_lexer": "ipython3",
   "version": "3.6.6"
  }
 },
 "nbformat": 4,
 "nbformat_minor": 2
}
