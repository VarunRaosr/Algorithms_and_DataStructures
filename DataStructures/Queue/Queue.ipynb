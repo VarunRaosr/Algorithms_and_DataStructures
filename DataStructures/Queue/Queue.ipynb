{
 "cells": [
  {
   "cell_type": "code",
   "execution_count": 12,
   "metadata": {},
   "outputs": [
    {
     "name": "stdout",
     "output_type": "stream",
     "text": [
      "elements of queue\n",
      "5 6 7 8 9 10 11 12 13 14 \n",
      "elements of queue\n",
      "7 8 9 10 11 12 13 14 \n"
     ]
    },
    {
     "data": {
      "text/plain": [
       "14"
      ]
     },
     "execution_count": 12,
     "metadata": {},
     "output_type": "execute_result"
    }
   ],
   "source": [
    "class Queue:\n",
    "    \n",
    "    def __init__(self,capacity):\n",
    "        self.items = []\n",
    "        self.capacity = capacity\n",
    "        \n",
    "    def isEmpty(self):\n",
    "        return len(self.items)==0\n",
    "    \n",
    "    def isFull(self):\n",
    "        return len(self.items)==self.capacity\n",
    "    \n",
    "    def enqueue(self,data):\n",
    "        if self.isFull():\n",
    "            print(\"Queue is full\")\n",
    "        else:\n",
    "            self.items.append(data)\n",
    "    \n",
    "    def dequeue(self):\n",
    "        if not self.isEmpty():\n",
    "            self.items.pop(0)\n",
    "        \n",
    "    def size(self):\n",
    "        return len(self.items)\n",
    "\n",
    "    def printQueue(self):\n",
    "        for ele in self.items:\n",
    "            print(ele,end=\" \")\n",
    "        print()\n",
    "        \n",
    "    def rear(self):\n",
    "        if self.isEmpty():\n",
    "            return\n",
    "        return self.items[self.size()-1]\n",
    "    \n",
    "    def front(self):\n",
    "        if self.isEmpty():\n",
    "            return\n",
    "        return self.items[0]\n",
    "        \n",
    "q = Queue(10)\n",
    "for x in range(5,15):\n",
    "    q.enqueue(x)\n",
    "    \n",
    "\n",
    "print(\"elements of queue\")\n",
    "q.printQueue()\n",
    "q.dequeue()\n",
    "q.dequeue()\n",
    "print(\"elements of queue\")\n",
    "q.printQueue()\n",
    "q.front()\n",
    "q.rear()"
   ]
  },
  {
   "cell_type": "code",
   "execution_count": 53,
   "metadata": {},
   "outputs": [
    {
     "name": "stdout",
     "output_type": "stream",
     "text": [
      "7->6->5->\n"
     ]
    }
   ],
   "source": [
    "class Node:\n",
    "    def __init__(self,data):\n",
    "        self.data = data\n",
    "        self.next = None\n",
    "        \n",
    "class QueueLinkedList:\n",
    "    \n",
    "    def __init__(self):\n",
    "        self.front = None\n",
    "        self.rear = None\n",
    "        \n",
    "    def isEmpty(self):\n",
    "        return self.front == None\n",
    "    \n",
    "    def enqueue(self,data):\n",
    "        new_node = Node(data)\n",
    "        if self.front is None:\n",
    "            self.front = new_node\n",
    "            self.rear = new_node\n",
    "            return\n",
    "        new_node.next = self.rear\n",
    "        self.rear = new_node\n",
    "        \n",
    "        \n",
    "    def dequeue(self):\n",
    "        if self.isEmpty():\n",
    "            return\n",
    "        temp = self.rear\n",
    "        \n",
    "        if self.rear==self.front:\n",
    "            self.rear = self.front = None\n",
    "            return\n",
    "        \n",
    "        while temp.next!= self.front:\n",
    "            temp = temp.next\n",
    "        self.front = temp\n",
    "        temp.next = None\n",
    "     \n",
    "    def printQueue(self):\n",
    "        if self.isEmpty():\n",
    "            return\n",
    "        temp = self.rear\n",
    "        if self.front == self.rear:\n",
    "            print(temp.data)\n",
    "            return\n",
    "        while temp!=None :\n",
    "            print(temp.data,end=\"->\")\n",
    "            temp = temp.next\n",
    "        print()\n",
    "        \n",
    "        \n",
    "q = QueueLinkedList()\n",
    "q.enqueue(5)\n",
    "q.enqueue(6)\n",
    "q.enqueue(7)\n",
    "q.printQueue()\n",
    "q.dequeue()\n",
    "q.dequeue()\n",
    "q.dequeue()\n",
    "\n",
    "q.printQueue()"
   ]
  },
  {
   "cell_type": "code",
   "execution_count": null,
   "metadata": {},
   "outputs": [],
   "source": []
  }
 ],
 "metadata": {
  "kernelspec": {
   "display_name": "Python 3",
   "language": "python",
   "name": "python3"
  },
  "language_info": {
   "codemirror_mode": {
    "name": "ipython",
    "version": 3
   },
   "file_extension": ".py",
   "mimetype": "text/x-python",
   "name": "python",
   "nbconvert_exporter": "python",
   "pygments_lexer": "ipython3",
   "version": "3.6.6"
  }
 },
 "nbformat": 4,
 "nbformat_minor": 2
}
