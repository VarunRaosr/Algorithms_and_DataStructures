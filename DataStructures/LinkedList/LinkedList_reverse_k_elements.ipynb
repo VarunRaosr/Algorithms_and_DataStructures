{
 "cells": [
  {
   "cell_type": "code",
   "execution_count": 32,
   "metadata": {},
   "outputs": [
    {
     "name": "stdout",
     "output_type": "stream",
     "text": [
      "1 2 3 4 5 6 7 8 9 10 \n",
      "4 3 2 1 8 7 6 5 10 9 \n"
     ]
    }
   ],
   "source": [
    "# reverse k elements in linked list\n",
    "class Node:\n",
    "    \n",
    "    def __init__(self,data):\n",
    "        self.data = data\n",
    "        self.next = None\n",
    "        \n",
    "class LinkedList:\n",
    "    \n",
    "    def __init__(self):\n",
    "        self.head = None\n",
    "        \n",
    "    def push(self,data):\n",
    "        new_node = Node(data)\n",
    "        if self.head is None:\n",
    "            self.head = new_node\n",
    "            return\n",
    "        \n",
    "        temp = self.head\n",
    "        \n",
    "        while temp.next:\n",
    "            temp = temp.next\n",
    "        temp.next = new_node\n",
    "        \n",
    "    def __len__(self):\n",
    "        temp = self.head\n",
    "        count = 0\n",
    "        while temp:\n",
    "            count += 1\n",
    "            temp = temp.next\n",
    "        return count\n",
    "    \n",
    "    def printlist(self):\n",
    "        temp = self.head\n",
    "        while temp:\n",
    "            print(temp.data,end=\" \")\n",
    "            temp = temp.next\n",
    "        print()\n",
    "     \n",
    "    def reverseByK(self,head,k):\n",
    "        current = head\n",
    "        next_node = None\n",
    "        prev_node = None\n",
    "        count = 0\n",
    "        \n",
    "            \n",
    "        while current!= None and count<k:\n",
    "            next_node = current.next\n",
    "            current.next = prev_node\n",
    "            prev_node = current\n",
    "            current = next_node\n",
    "            count += 1\n",
    "\n",
    "        if next_node is not None:\n",
    "            head.next = self.reverseByK(next_node,k)\n",
    "        \n",
    "        self.head = prev_node\n",
    "        return prev_node\n",
    "            \n",
    "    def reverseByKelements(self,k):\n",
    "        temp = self.reverseByK(self.head,k)\n",
    "        while temp:\n",
    "            print(temp.data,end = \" \")\n",
    "            temp = temp.next\n",
    "    \n",
    "l1 = LinkedList()\n",
    "\n",
    "for i in range(1,11):\n",
    "    l1.push(i)\n",
    "    \n",
    "l1.printlist()\n",
    "l1.reverseByK(l1.head,4)\n",
    "l1.printlist()\n",
    "# l1.reverseByKelements(9)\n"
   ]
  }
 ],
 "metadata": {
  "kernelspec": {
   "display_name": "Python 3",
   "language": "python",
   "name": "python3"
  },
  "language_info": {
   "codemirror_mode": {
    "name": "ipython",
    "version": 3
   },
   "file_extension": ".py",
   "mimetype": "text/x-python",
   "name": "python",
   "nbconvert_exporter": "python",
   "pygments_lexer": "ipython3",
   "version": "3.6.6"
  }
 },
 "nbformat": 4,
 "nbformat_minor": 2
}
