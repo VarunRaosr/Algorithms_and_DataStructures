{
 "cells": [
  {
   "cell_type": "code",
   "execution_count": 26,
   "metadata": {},
   "outputs": [
    {
     "name": "stdout",
     "output_type": "stream",
     "text": [
      "1 2 3 4 5 \n",
      "1 2 3 \n"
     ]
    }
   ],
   "source": [
    "class Node:\n",
    "    \n",
    "    def __init__(self,data):\n",
    "        self.data = data\n",
    "        self.next = None\n",
    "        \n",
    "class LinkedList:\n",
    "    \n",
    "    def __init__(self):\n",
    "        self.head = None\n",
    "        \n",
    "    def push(self,data):\n",
    "        new_node = Node(data)\n",
    "        if self.head is None:\n",
    "            self.head = new_node\n",
    "            return\n",
    "        \n",
    "        temp = self.head\n",
    "        \n",
    "        while temp.next:\n",
    "            temp = temp.next\n",
    "        temp.next = new_node\n",
    "        \n",
    "    def __len__(self):\n",
    "        temp = self.head\n",
    "        count = 0\n",
    "        while temp:\n",
    "            count += 1\n",
    "            temp = temp.next\n",
    "        return count\n",
    "    \n",
    "    def printlist(self):\n",
    "        temp = self.head\n",
    "        while temp:\n",
    "            print(temp.data,end=\" \")\n",
    "            temp = temp.next\n",
    "        print()\n",
    "     \n",
    "    \n",
    "    def detectAndRemoveLoop(self):\n",
    "        s = set()\n",
    "        temp = self.head\n",
    "        last_node = self.head\n",
    "        while(temp):\n",
    "            if temp in s:\n",
    "                last_node.next = None\n",
    "                return True\n",
    "            s.add(temp)\n",
    "            last_node = temp\n",
    "            temp = temp.next\n",
    "        return False\n",
    "    \n",
    "l1 = LinkedList()\n",
    "\n",
    "for i in range(1,6):\n",
    "    l1.push(i)\n",
    "l1.printlist()\n",
    "\n",
    "l1.head.next.next.next = l1.head.next\n",
    "# l1.printlist()\n",
    "l1.detectAndRemoveLoop()\n",
    "l1.printlist()"
   ]
  }
 ],
 "metadata": {
  "kernelspec": {
   "display_name": "Python 3",
   "language": "python",
   "name": "python3"
  },
  "language_info": {
   "codemirror_mode": {
    "name": "ipython",
    "version": 3
   },
   "file_extension": ".py",
   "mimetype": "text/x-python",
   "name": "python",
   "nbconvert_exporter": "python",
   "pygments_lexer": "ipython3",
   "version": "3.6.6"
  }
 },
 "nbformat": 4,
 "nbformat_minor": 2
}
