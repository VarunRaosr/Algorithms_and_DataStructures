{
 "cells": [
  {
   "cell_type": "code",
   "execution_count": 46,
   "metadata": {},
   "outputs": [
    {
     "name": "stdout",
     "output_type": "stream",
     "text": [
      "4\n",
      "5\n",
      "6\n"
     ]
    }
   ],
   "source": [
    "class Node:\n",
    "    \n",
    "    def __init__(self,data):\n",
    "        self.data = data\n",
    "        self.next = None\n",
    "        \n",
    "# class LinkedList():\n",
    "    \n",
    "#     def __init__(self):\n",
    "#         self.head = None\n",
    "#         self.head.next = None\n",
    "        \n",
    "#     def push(self,data):\n",
    "#         ''' Adds element to end of the list'''\n",
    "#         new_node = Node(data)\n",
    "#         if self.head is None:\n",
    "#             self.head = new_node\n",
    "#             return\n",
    "#         Node temp = self.head\n",
    "#         while temp.next!=None:\n",
    "#             temp = temp.next\n",
    "#         temp.next = new_node\n",
    "        \n",
    "\n",
    "a = Node(4)\n",
    "b = Node(5)\n",
    "c = Node(6)\n",
    "\n",
    "a.next = b\n",
    "b.next = c\n",
    "\n",
    "n = a\n",
    "while n is not None:\n",
    "    print(n.data)\n",
    "    n=n.next"
   ]
  },
  {
   "cell_type": "markdown",
   "metadata": {},
   "source": [
    "Linked List vs Arrays:\n",
    "1. Linked List - addition or deletion of element takes constant time operation unlike arrays which take O(n) time\n",
    "2. Linked List - dont have to specify size of the list they can expand indefinitely\n",
    "3. Drawback - To acces each element takes O(k) time - k being the position of list from the head of the linked list\n",
    "4. Drawback - Also you need additonal memory to store next element of a linked list the pointer"
   ]
  },
  {
   "cell_type": "code",
   "execution_count": 20,
   "metadata": {
    "collapsed": true
   },
   "outputs": [],
   "source": [
    "class DoubleLinkedListNode:\n",
    "    \n",
    "    def __init__(self,data):\n",
    "        self.data = data\n",
    "        self.next = None\n",
    "        self.prev = None\n",
    "        \n",
    "a = DoubleLinkedListNode(4)\n",
    "b = DoubleLinkedListNode(5)\n",
    "c = DoubleLinkedListNode(6)\n",
    "\n",
    "a.next = b\n",
    "b.prev = a\n",
    "b.next = c\n",
    "c.prev = b\n",
    "\n",
    "\n"
   ]
  },
  {
   "cell_type": "code",
   "execution_count": 42,
   "metadata": {
    "collapsed": true
   },
   "outputs": [],
   "source": [
    "def cycle_check_function(start):\n",
    "    first = start\n",
    "    second = start\n",
    "    while(first!=None and second.next!=None ):\n",
    "        first = first.next\n",
    "        second = second.next.next\n",
    "        \n",
    "        if first==second:\n",
    "            return True\n",
    "    return False"
   ]
  },
  {
   "cell_type": "code",
   "execution_count": 60,
   "metadata": {},
   "outputs": [
    {
     "name": "stdout",
     "output_type": "stream",
     "text": [
      "BOTH TEST CASES PASSED\n"
     ]
    }
   ],
   "source": [
    "# Testing whether single linked list has a loop\n",
    "from nose.tools import assert_equal\n",
    "\n",
    "a = Node(1)\n",
    "b = Node(2)\n",
    "c = Node(3)\n",
    "\n",
    "# case 1: \n",
    "# create a cycle\n",
    "a.next = b\n",
    "b.next = c\n",
    "c.next = a\n",
    "\n",
    "# case 2:\n",
    "# Non cycle list\n",
    "x = Node(4)\n",
    "y = Node(5)\n",
    "z = Node(6)\n",
    "\n",
    "\n",
    "x.next = y\n",
    "y.next = z\n",
    "\n",
    "\n",
    "class TestCycleCheck():\n",
    "    \n",
    "    def test(self,sol):\n",
    "        assert_equal(sol(a),True)\n",
    "        assert_equal(sol(x),False)\n",
    "        \n",
    "        print(\"BOTH TEST CASES PASSED\")\n",
    "    \n",
    "t = TestCycleCheck()\n",
    "t.test(cycle_check_function)\n",
    "    "
   ]
  },
  {
   "cell_type": "code",
   "execution_count": 98,
   "metadata": {},
   "outputs": [
    {
     "name": "stdout",
     "output_type": "stream",
     "text": [
      "1\n",
      "2\n",
      "3\n",
      "3\n",
      "2\n",
      "1\n"
     ]
    }
   ],
   "source": [
    "def reverse(head):\n",
    "    current = head\n",
    "    prev = None\n",
    "    nextNode = None\n",
    "    \n",
    "    while current:\n",
    "        nextNode = current.next\n",
    "        current.next = prev\n",
    "        prev = current\n",
    "        current = nextNode\n",
    "\n",
    "a = Node(1)\n",
    "b = Node(2)\n",
    "c = Node(3)\n",
    "\n",
    "a.next = b\n",
    "b.next = c\n",
    "\n",
    "print(a.data)\n",
    "print(b.data)\n",
    "print(c.data)\n",
    "\n",
    "print(\"Reversing\".center())\n",
    "reverse(a)\n",
    "\n",
    "print(c.data)\n",
    "print(c.next.data)\n",
    "print(c.next.next.data)\n"
   ]
  }
 ],
 "metadata": {
  "kernelspec": {
   "display_name": "Python 3",
   "language": "python",
   "name": "python3"
  },
  "language_info": {
   "codemirror_mode": {
    "name": "ipython",
    "version": 3
   },
   "file_extension": ".py",
   "mimetype": "text/x-python",
   "name": "python",
   "nbconvert_exporter": "python",
   "pygments_lexer": "ipython3",
   "version": "3.6.6"
  }
 },
 "nbformat": 4,
 "nbformat_minor": 2
}
