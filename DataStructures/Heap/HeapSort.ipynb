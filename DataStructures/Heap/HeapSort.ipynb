{
 "cells": [
  {
   "cell_type": "code",
   "execution_count": 12,
   "metadata": {},
   "outputs": [
    {
     "name": "stdout",
     "output_type": "stream",
     "text": [
      "5\n",
      "6\n",
      "7\n",
      "11\n",
      "13\n",
      "12\n"
     ]
    }
   ],
   "source": [
    "def heapify(arr,n,i):\n",
    "    largest = i\n",
    "    left = 2 * i + 1\n",
    "    right = 2 * i + 2\n",
    "    \n",
    "    if left < n and arr[i] < arr[left]:\n",
    "        largest = left\n",
    "    \n",
    "        if right < n and arr[largest] < arr[right]:\n",
    "            largest = right\n",
    "        \n",
    "    if largest != i:\n",
    "        arr[i], arr[largest] = arr[largest], arr[i]\n",
    "        \n",
    "        heapify(arr,n,largest)\n",
    "        \n",
    "def heapSort(arr):\n",
    "    n = len(arr)\n",
    "    \n",
    "    for i in range(n,-1,-1):\n",
    "        heapify(arr,n,i)\n",
    "        \n",
    "    for i in range(n-1,0,-1):\n",
    "        arr[i],arr[0] = arr[0] , arr[i]\n",
    "        heapify(arr,i,0)\n",
    "        \n",
    "        \n",
    "arr = [ 12, 11, 13, 5, 6, 7] \n",
    "heapSort(arr) \n",
    "for i in range(len(arr)):\n",
    "    print(arr[i])"
   ]
  },
  {
   "cell_type": "code",
   "execution_count": null,
   "metadata": {},
   "outputs": [],
   "source": []
  }
 ],
 "metadata": {
  "kernelspec": {
   "display_name": "Python 3",
   "language": "python",
   "name": "python3"
  },
  "language_info": {
   "codemirror_mode": {
    "name": "ipython",
    "version": 3
   },
   "file_extension": ".py",
   "mimetype": "text/x-python",
   "name": "python",
   "nbconvert_exporter": "python",
   "pygments_lexer": "ipython3",
   "version": "3.6.6"
  }
 },
 "nbformat": 4,
 "nbformat_minor": 2
}
