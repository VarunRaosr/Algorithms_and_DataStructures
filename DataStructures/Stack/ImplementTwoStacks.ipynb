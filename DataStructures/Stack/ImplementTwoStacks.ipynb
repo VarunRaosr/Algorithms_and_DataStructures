{
 "cells": [
  {
   "cell_type": "code",
   "execution_count": 4,
   "metadata": {},
   "outputs": [
    {
     "name": "stdout",
     "output_type": "stream",
     "text": [
      "5 11 7 15 10 \n",
      "5 7 15 10 \n"
     ]
    }
   ],
   "source": [
    "class TwoStacks:\n",
    "    \n",
    "    def __init__(self,size):\n",
    "        self.items = [None]*size\n",
    "        self.top1 = -1\n",
    "        self.top2 = size\n",
    "        self.size = size\n",
    "        \n",
    "    def push1(self,data):\n",
    "        if self.top1 < self.top2-1:\n",
    "            self.top1 += 1\n",
    "            self.items[self.top1]= data\n",
    "        else:\n",
    "            print(\"Stack Overflow\")\n",
    "            \n",
    "    def push2(self,data):\n",
    "        if self.top1 < self.top2-1:\n",
    "            self.top2 -= 1\n",
    "            self.items[self.top2]= data\n",
    "            \n",
    "        else:\n",
    "            print('Stack Overflow')\n",
    "            \n",
    "    def pop1(self):\n",
    "        if self.top1 >=0:\n",
    "            self.items[self.top1]=None\n",
    "            self.top1 -= 1\n",
    "        else:\n",
    "            print('Stack Underflow')\n",
    "            \n",
    "    def pop2(self):\n",
    "        if self.top2 >=self.size:\n",
    "            print('Stack Underflow')\n",
    "        else:\n",
    "            self.items[self.top2]=None\n",
    "            self.top2 += 1\n",
    " \n",
    "    def printstack(self):\n",
    "        for ele in self.items:\n",
    "            if ele:\n",
    "                print(ele,end=\" \")\n",
    "        print()\n",
    "ts = TwoStacks(5) \n",
    "ts.push1(5) \n",
    "ts.push2(10) \n",
    "ts.push2(15) \n",
    "ts.push1(11) \n",
    "ts.push2(7) \n",
    "\n",
    "ts.printstack()\n",
    "ts.pop1()\n",
    "ts.push2(40) \n",
    "ts.pop2()\n",
    "ts.printstack()"
   ]
  }
 ],
 "metadata": {
  "kernelspec": {
   "display_name": "Python 3",
   "language": "python",
   "name": "python3"
  },
  "language_info": {
   "codemirror_mode": {
    "name": "ipython",
    "version": 3
   },
   "file_extension": ".py",
   "mimetype": "text/x-python",
   "name": "python",
   "nbconvert_exporter": "python",
   "pygments_lexer": "ipython3",
   "version": "3.6.6"
  }
 },
 "nbformat": 4,
 "nbformat_minor": 2
}
