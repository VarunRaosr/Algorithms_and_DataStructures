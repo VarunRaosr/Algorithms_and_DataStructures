{
 "cells": [
  {
   "cell_type": "code",
   "execution_count": 2,
   "metadata": {},
   "outputs": [
    {
     "data": {
      "text/plain": [
       "[-1, -1, 21, 21, -1, 32]"
      ]
     },
     "execution_count": 2,
     "metadata": {},
     "output_type": "execute_result"
    }
   ],
   "source": [
    "class Stack(object):\n",
    "    \n",
    "    def __init__(self,size):\n",
    "        self.stack = []\n",
    "        self.size = size\n",
    "        self.TOP_OF_STACK = -1\n",
    "        \n",
    "    def isEmpty(self):\n",
    "        return len(self.stack)==0\n",
    "    \n",
    "    def push(self,data):\n",
    "        if self.TOP_OF_STACK < (self.size-1):\n",
    "            self.stack.append(data)\n",
    "            self.TOP_OF_STACK += 1\n",
    "            return\n",
    "        raise Exception('Stack is Full !')\n",
    "    \n",
    "    def pop(self):\n",
    "        if self.isEmpty():\n",
    "            raise Exception('Stack Underflow !')\n",
    "        else:\n",
    "            val =  self.stack.pop(self.TOP_OF_STACK)\n",
    "            self.TOP_OF_STACK -= 1\n",
    "            return val\n",
    "        \n",
    "        \n",
    "    def printStack(self):\n",
    "        for element in self.stack:\n",
    "            print(element,end= \" \")\n",
    "        print()\n",
    "        \n",
    "\n",
    "class NextGreater:\n",
    "    def __init__(self,arr):\n",
    "        self.stck = Stack(len(arr))\n",
    "        for ele in arr:\n",
    "            self.stck.push(ele)\n",
    "            \n",
    "    def getNextGreater(self):\n",
    "        res = []\n",
    "        big = self.stck.pop()\n",
    "        res.append(-1)\n",
    "        while not self.stck.isEmpty():\n",
    "            temp = self.stck.pop()\n",
    "            if temp > big :\n",
    "                res.append(-1)\n",
    "                big = temp\n",
    "            else:\n",
    "                res.append(big)\n",
    "                \n",
    "        return res\n",
    "    \n",
    "arr = [5,32,11,13,21,3] \n",
    "test = NextGreater(arr)\n",
    "test.getNextGreater()\n"
   ]
  }
 ],
 "metadata": {
  "kernelspec": {
   "display_name": "Python 3",
   "language": "python",
   "name": "python3"
  },
  "language_info": {
   "codemirror_mode": {
    "name": "ipython",
    "version": 3
   },
   "file_extension": ".py",
   "mimetype": "text/x-python",
   "name": "python",
   "nbconvert_exporter": "python",
   "pygments_lexer": "ipython3",
   "version": "3.6.6"
  }
 },
 "nbformat": 4,
 "nbformat_minor": 2
}
