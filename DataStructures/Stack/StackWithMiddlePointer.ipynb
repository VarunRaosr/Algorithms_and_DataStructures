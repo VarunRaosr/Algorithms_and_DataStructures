{
 "cells": [
  {
   "cell_type": "code",
   "execution_count": 38,
   "metadata": {},
   "outputs": [
    {
     "name": "stdout",
     "output_type": "stream",
     "text": [
      "9 ->7 ->5 ->3 ->1 ->\n",
      "5 ->3 ->1 ->\n",
      "5 ->1 ->\n",
      "9 ->4 ->5 ->1 ->\n"
     ]
    },
    {
     "data": {
      "text/plain": [
       "5"
      ]
     },
     "execution_count": 38,
     "metadata": {},
     "output_type": "execute_result"
    }
   ],
   "source": [
    "class DoubleLinkedNode:\n",
    "    def __init__(self,data):\n",
    "        self.data = data\n",
    "        self.next = None\n",
    "        self.prev = None\n",
    "        \n",
    "        \n",
    "class DoubleLinkedList:\n",
    "    \n",
    "    def __init__(self):\n",
    "        self.head = None\n",
    "        self.middle = None\n",
    "        self.size = 0\n",
    "        self.count = 0\n",
    "        \n",
    "    def isEmpty(self):\n",
    "        return self.head == None\n",
    "    \n",
    "    def UpdateMiddle(self,param):\n",
    "        \n",
    "        if self.size==0:\n",
    "            self.middle = None\n",
    "            return\n",
    "        if self.size==1:\n",
    "            self.middle = self.head\n",
    "            return\n",
    "        if self.size>=2:\n",
    "            \n",
    "            if self.size%2==1 and param==1:\n",
    "                self.count += 1\n",
    "                self.middle = self.middle.prev\n",
    "                return\n",
    "            if self.size%2==0 and  param == -1:\n",
    "                self.middle = self.middle.next\n",
    "                \n",
    "    def insertNode(self,data):\n",
    "        new_node = DoubleLinkedNode(data)\n",
    "        \n",
    "        new_node.next = self.head\n",
    "        new_node.prev = None\n",
    "        \n",
    "        if not self.isEmpty():\n",
    "            self.head.prev = new_node\n",
    "        \n",
    "        self.head = new_node    \n",
    "        self.size += 1\n",
    "        self.UpdateMiddle(1)\n",
    "        \n",
    "    def deleteNode(self):\n",
    "        if not self.isEmpty():\n",
    "            temp = self.head.next\n",
    "            temp.prev = None\n",
    "            self.head = temp\n",
    "            self.size -= 1\n",
    "            self.UpdateMiddle(-1)\n",
    "            \n",
    "    def printList(self):\n",
    "        temp = self.head\n",
    "        while temp:\n",
    "            print(temp.data,end= \" ->\")\n",
    "            temp = temp.next\n",
    "        print()\n",
    "      \n",
    "    def findMiddle(self):\n",
    "        return self.middle.data\n",
    "    \n",
    "    def deleteMiddle(self):\n",
    "        previous = self.middle.prev\n",
    "        next_node = self.middle.next\n",
    "        \n",
    "        previous.next = self.middle.next\n",
    "        next_node.prev = previous\n",
    "        self.size -= 1\n",
    "        self.UpdateMiddle(-1)\n",
    "        \n",
    "test = DoubleLinkedList()\n",
    "\n",
    "for i in range(1,10,2):\n",
    "    test.insertNode(i)\n",
    "test.printList()\n",
    "test.deleteNode()\n",
    "test.deleteNode()\n",
    "test.printList()\n",
    "test.findMiddle()\n",
    "test.deleteMiddle()\n",
    "test.printList()\n",
    "test.insertNode(4)\n",
    "test.insertNode(9)\n",
    "test.printList()\n",
    "test.findMiddle()"
   ]
  }
 ],
 "metadata": {
  "kernelspec": {
   "display_name": "Python 3",
   "language": "python",
   "name": "python3"
  },
  "language_info": {
   "codemirror_mode": {
    "name": "ipython",
    "version": 3
   },
   "file_extension": ".py",
   "mimetype": "text/x-python",
   "name": "python",
   "nbconvert_exporter": "python",
   "pygments_lexer": "ipython3",
   "version": "3.6.6"
  }
 },
 "nbformat": 4,
 "nbformat_minor": 2
}
