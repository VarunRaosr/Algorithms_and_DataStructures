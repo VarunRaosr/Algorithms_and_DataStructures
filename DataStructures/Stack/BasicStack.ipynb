{
 "cells": [
  {
   "cell_type": "code",
   "execution_count": 1,
   "metadata": {},
   "outputs": [
    {
     "name": "stdout",
     "output_type": "stream",
     "text": [
      "2 3 4 5 6 7 8 9 10 11 \n",
      "2 3 4 5 6 7 8 9 88 \n",
      "2 3 4 5 6 7 8 9 \n"
     ]
    }
   ],
   "source": [
    "class Stack(object):\n",
    "    \n",
    "    def __init__(self,size):\n",
    "        self.stack = []\n",
    "        self.size = size\n",
    "        self.TOP_OF_STACK = -1\n",
    "        \n",
    "    def isEmpty(self):\n",
    "        return len(self.stack)==0\n",
    "    \n",
    "    def push(self,data):\n",
    "        if self.TOP_OF_STACK < (self.size-1):\n",
    "            self.stack.append(data)\n",
    "            self.TOP_OF_STACK += 1\n",
    "            return\n",
    "        raise Exception('Stack is Full !')\n",
    "    \n",
    "    def pop(self):\n",
    "        if self.isEmpty():\n",
    "            raise Exception('Stack Underflow !')\n",
    "        else:\n",
    "            val =  self.stack.pop(self.TOP_OF_STACK)\n",
    "            self.TOP_OF_STACK -= 1\n",
    "            return val\n",
    "        \n",
    "        \n",
    "    def printStack(self):\n",
    "        for element in self.stack:\n",
    "            print(element,end= \" \")\n",
    "        print()\n",
    "        \n",
    "stck = Stack(10)\n",
    "for index in range(10):\n",
    "    stck.push(index+2)\n",
    "\n",
    "stck.printStack()\n",
    "stck.pop()\n",
    "stck.pop()\n",
    "stck.push(88)\n",
    "stck.printStack()\n",
    "stck.pop()\n",
    "stck.printStack()"
   ]
  },
  {
   "cell_type": "code",
   "execution_count": 2,
   "metadata": {},
   "outputs": [
    {
     "name": "stdout",
     "output_type": "stream",
     "text": [
      "Contents ...\n",
      "9 8 7 6 5 4 3 2 1 0 \n",
      "Contents ...\n",
      "6 5 4 3 2 1 0 \n",
      "Contents ...\n",
      "100 99 6 5 4 3 2 1 0 \n"
     ]
    }
   ],
   "source": [
    "# Implement Stack using Linked List\n",
    "class Node(object):\n",
    "    \n",
    "    def __init__(self,data):\n",
    "        self.data = data\n",
    "        self.next = None\n",
    "        \n",
    "class LinkedList(object):\n",
    "    \n",
    "    def __init__(self):\n",
    "        self.head = None\n",
    "        self.size = 0\n",
    "       \n",
    "    def getsize(self):\n",
    "        return self.size\n",
    "    \n",
    "    def push(self,data):\n",
    "        if self.size >=10:\n",
    "            raise Exception('Stack is Full')\n",
    "        new_node = Node(data)\n",
    "        \n",
    "        if self.head is None:\n",
    "            self.head = new_node\n",
    "            self.size += 1\n",
    "            return\n",
    "        \n",
    "        new_node.next = self.head\n",
    "        self.head = new_node\n",
    "        self.size += 1\n",
    "        \n",
    "    def pop(self):\n",
    "        if self.isEmpty():\n",
    "            print('Stack is Empty')\n",
    "        else:\n",
    "            self.head = self.head.next\n",
    "            self.size -= 1\n",
    "        \n",
    "    def isEmpty(self):\n",
    "        return self.head == None\n",
    "    \n",
    "    def printlist(self):\n",
    "        temp = self.head\n",
    "        print(\"Contents ...\")\n",
    "        while temp:\n",
    "            print(temp.data,end=\" \")\n",
    "            temp = temp.next\n",
    "        print()\n",
    "stck = LinkedList()\n",
    "for ele in range(10):\n",
    "    stck.push(ele)\n",
    "stck.printlist()\n",
    "stck.pop()\n",
    "stck.pop()\n",
    "stck.pop()\n",
    "stck.printlist()\n",
    "stck.push(99)\n",
    "stck.push(100)\n",
    "stck.printlist()"
   ]
  }
 ],
 "metadata": {
  "kernelspec": {
   "display_name": "Python 3",
   "language": "python",
   "name": "python3"
  },
  "language_info": {
   "codemirror_mode": {
    "name": "ipython",
    "version": 3
   },
   "file_extension": ".py",
   "mimetype": "text/x-python",
   "name": "python",
   "nbconvert_exporter": "python",
   "pygments_lexer": "ipython3",
   "version": "3.6.6"
  }
 },
 "nbformat": 4,
 "nbformat_minor": 2
}
