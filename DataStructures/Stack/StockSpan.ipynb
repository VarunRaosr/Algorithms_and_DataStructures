{
 "cells": [
  {
   "cell_type": "code",
   "execution_count": 1,
   "metadata": {},
   "outputs": [
    {
     "name": "stdout",
     "output_type": "stream",
     "text": [
      "1 1 2 4 5 1 "
     ]
    }
   ],
   "source": [
    "def calculateSpan(price, S): \n",
    "      \n",
    "    n = len(price) \n",
    "    st = []  \n",
    "    st.append(0) \n",
    "    S[0] = 1\n",
    "  \n",
    "    # Calculate span values for rest of the elements \n",
    "    for i in range(1, n): \n",
    "\n",
    "        while( len(st) > 0 and price[st[0]] <= price[i]): \n",
    "            st.pop() \n",
    "\n",
    "        if len(st) <= 0:\n",
    "            S[i] = i+1 \n",
    "        else:\n",
    "            S[i]= i - st[0]\n",
    "\n",
    "        st.append(i) \n",
    "\n",
    "def printArray(arr, n): \n",
    "    for i in range(0,n): \n",
    "        print (arr[i], end=\" \") \n",
    "  \n",
    "  \n",
    "# Driver program to test above function \n",
    "price = [10, 4, 5, 90, 120, 80] \n",
    "S = [0 for i in range(len(price)+1)] \n",
    "  \n",
    "# Fill the span values in array S[] \n",
    "calculateSpan(price, S) \n",
    "  \n",
    "# Print the calculated span values \n",
    "printArray(S, len(price)) "
   ]
  }
 ],
 "metadata": {
  "kernelspec": {
   "display_name": "Python 3",
   "language": "python",
   "name": "python3"
  },
  "language_info": {
   "codemirror_mode": {
    "name": "ipython",
    "version": 3
   },
   "file_extension": ".py",
   "mimetype": "text/x-python",
   "name": "python",
   "nbconvert_exporter": "python",
   "pygments_lexer": "ipython3",
   "version": "3.6.6"
  }
 },
 "nbformat": 4,
 "nbformat_minor": 2
}
