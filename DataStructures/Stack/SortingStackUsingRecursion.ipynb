{
 "cells": [
  {
   "cell_type": "code",
   "execution_count": 24,
   "metadata": {},
   "outputs": [
    {
     "name": "stdout",
     "output_type": "stream",
     "text": [
      "6 1 4 3 5 2 \n",
      "1 2 3 4 5 6 \n"
     ]
    }
   ],
   "source": [
    "class Stack(object):\n",
    "    \n",
    "    def __init__(self,size):\n",
    "        self.stack = []\n",
    "        self.size = size\n",
    "        self.TOP_OF_STACK = -1\n",
    "        \n",
    "    def isEmpty(self):\n",
    "        return len(self.stack)==0\n",
    "    \n",
    "    def push(self,data):\n",
    "        if self.TOP_OF_STACK < (self.size-1):\n",
    "            self.stack.append(data)\n",
    "            self.TOP_OF_STACK += 1\n",
    "            return\n",
    "        raise Exception('Stack is Full !')\n",
    "    \n",
    "    def pop(self):\n",
    "        if self.isEmpty():\n",
    "            raise Exception('Stack Underflow !')\n",
    "        else:\n",
    "            val =  self.stack.pop(self.TOP_OF_STACK)\n",
    "            self.TOP_OF_STACK -= 1\n",
    "            return val\n",
    "     \n",
    "    def peek(self):\n",
    "        val = self.stack[self.TOP_OF_STACK]\n",
    "        return val\n",
    "        \n",
    "    def printStack(self):\n",
    "        for element in self.stack:\n",
    "            print(element,end= \" \")\n",
    "        print()\n",
    "\n",
    "    def sort(self,stack):\n",
    "        if not stack.isEmpty():\n",
    "\n",
    "            temp = stack.pop()\n",
    "            sort(stack)\n",
    "            sortedInsert(stack,temp)\n",
    "        \n",
    "    def sortedInsert(self,stack,element):\n",
    "\n",
    "        if stack.isEmpty() or element > stack.peek():\n",
    "            stack.push(element)\n",
    "        else:\n",
    "            temp = stack.pop()\n",
    "            sortedInsert(stack,element)\n",
    "            stack.push(temp)\n",
    "\n",
    "\n",
    "stck = Stack(10)\n",
    "stck.push(6)\n",
    "stck.push(1)\n",
    "stck.push(4)\n",
    "stck.push(3)\n",
    "stck.push(5)\n",
    "stck.push(2)\n",
    "\n",
    "stck.printStack()\n",
    "stck.sort(stck)\n",
    "stck.printStack()"
   ]
  }
 ],
 "metadata": {
  "kernelspec": {
   "display_name": "Python 3",
   "language": "python",
   "name": "python3"
  },
  "language_info": {
   "codemirror_mode": {
    "name": "ipython",
    "version": 3
   },
   "file_extension": ".py",
   "mimetype": "text/x-python",
   "name": "python",
   "nbconvert_exporter": "python",
   "pygments_lexer": "ipython3",
   "version": "3.6.6"
  }
 },
 "nbformat": 4,
 "nbformat_minor": 2
}
