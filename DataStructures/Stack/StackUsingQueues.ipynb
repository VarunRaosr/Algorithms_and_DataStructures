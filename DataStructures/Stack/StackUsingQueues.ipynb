{
 "cells": [
  {
   "cell_type": "code",
   "execution_count": 11,
   "metadata": {},
   "outputs": [
    {
     "data": {
      "text/plain": [
       "1"
      ]
     },
     "execution_count": 11,
     "metadata": {},
     "output_type": "execute_result"
    }
   ],
   "source": [
    "class Queue:\n",
    "    \n",
    "    def __init__(self,capacity):\n",
    "        self.items = []\n",
    "        self.capacity = capacity\n",
    "        \n",
    "    def isEmpty(self):\n",
    "        return len(self.items)==0\n",
    "    \n",
    "    def isFull(self):\n",
    "        return len(self.items)==self.capacity\n",
    "    \n",
    "    def enqueue(self,data):\n",
    "        if self.isFull():\n",
    "            print(\"Queue is full\")\n",
    "        else:\n",
    "            self.items.append(data)\n",
    "    \n",
    "    def dequeue(self):\n",
    "        if not self.isEmpty():\n",
    "            return self.items.pop(0)\n",
    "        \n",
    "    def size(self):\n",
    "        return len(self.items)\n",
    "\n",
    "    def printQueue(self):\n",
    "        for ele in self.items:\n",
    "            print(ele,end=\" \")\n",
    "        print()\n",
    "        \n",
    "    def rear(self):\n",
    "        if self.isEmpty():\n",
    "            return\n",
    "        return self.items[self.size()-1]\n",
    "    \n",
    "    def front(self):\n",
    "        if self.isEmpty():\n",
    "            return\n",
    "        return self.items[0]\n",
    "\n",
    "class Stack:\n",
    "    \n",
    "    def __init__(self,capacity):\n",
    "        self.items = []\n",
    "        self.capacity = capacity\n",
    "        self.q1 = Queue(self.capacity)\n",
    "        self.q2 = Queue(self.capacity)\n",
    "        \n",
    "    def isEmpty(self):\n",
    "        return self.q1.isEmpty() and self.q2.isEmpty()\n",
    "    \n",
    "    def push(self,data):\n",
    "        if not self.q1.isFull():\n",
    "            self.q1.enqueue(data)\n",
    "            \n",
    "    def pop(self):\n",
    "        if not self.isEmpty():\n",
    "            if not self.q2.isEmpty():\n",
    "                return self.q2.dequeue()\n",
    "            if not self.q1.isEmpty():\n",
    "                while not self.q1.isEmpty():\n",
    "                    self.q2.enqueue(self.q1.dequeue())\n",
    "                return self.q2.dequeue()\n",
    "            \n",
    "    def peek(self):\n",
    "        if not self.q2.isEmpty():\n",
    "            self.q2.front()\n",
    "        if not self.q1.isEmpty():\n",
    "            self.q1.front()\n",
    "            \n",
    "s1 = Stack(10)\n",
    "\n",
    "for ele in range(1,5):\n",
    "    s1.push(ele)\n",
    "\n",
    "s1.pop()\n"
   ]
  }
 ],
 "metadata": {
  "kernelspec": {
   "display_name": "Python 3",
   "language": "python",
   "name": "python3"
  },
  "language_info": {
   "codemirror_mode": {
    "name": "ipython",
    "version": 3
   },
   "file_extension": ".py",
   "mimetype": "text/x-python",
   "name": "python",
   "nbconvert_exporter": "python",
   "pygments_lexer": "ipython3",
   "version": "3.6.6"
  }
 },
 "nbformat": 4,
 "nbformat_minor": 2
}
