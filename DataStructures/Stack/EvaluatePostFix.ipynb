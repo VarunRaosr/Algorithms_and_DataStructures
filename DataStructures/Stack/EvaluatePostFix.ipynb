{
 "cells": [
  {
   "cell_type": "code",
   "execution_count": 6,
   "metadata": {},
   "outputs": [
    {
     "data": {
      "text/plain": [
       "-4"
      ]
     },
     "execution_count": 6,
     "metadata": {},
     "output_type": "execute_result"
    }
   ],
   "source": [
    "class Stack(object):\n",
    "    \n",
    "    def __init__(self,size):\n",
    "        self.stack = []\n",
    "        self.size = size\n",
    "        self.TOP_OF_STACK = -1\n",
    "        \n",
    "    def isEmpty(self):\n",
    "        return len(self.stack)==0\n",
    "    \n",
    "    def push(self,data):\n",
    "        if self.TOP_OF_STACK < (self.size-1):\n",
    "            self.stack.append(data)\n",
    "            self.TOP_OF_STACK += 1\n",
    "            return\n",
    "        raise Exception('Stack is Full !')\n",
    "    \n",
    "    def pop(self):\n",
    "        if self.isEmpty():\n",
    "            raise Exception('Stack Underflow !')\n",
    "        else:\n",
    "            val =  self.stack.pop(self.TOP_OF_STACK)\n",
    "            self.TOP_OF_STACK -= 1\n",
    "            return val\n",
    "        \n",
    "    def size(self):\n",
    "        return len(self.stack)\n",
    "        \n",
    "    def printStack(self):\n",
    "        for element in self.stack:\n",
    "            print(element,end= \" \")\n",
    "        print()\n",
    "\n",
    "class Evaluate:\n",
    "    \n",
    "    def __init__(self):\n",
    "        self.operand = Stack(100)\n",
    "        self.operator = Stack(100)\n",
    "        self.operators = set(['+','-','/','*','^'])\n",
    "        \n",
    "    def evaluate(self,exp):\n",
    "        for character in exp:\n",
    "            if character.isdigit():\n",
    "                self.operand.push(character)\n",
    "            else:\n",
    "                self.operator.push(character)\n",
    "                if not self.operand.isEmpty():\n",
    "                    val1 = self.operand.pop()\n",
    "                    val2 = self.operand.pop()\n",
    "                self.operand.push(str(eval(val2+self.operator.pop()+val1)))\n",
    "                \n",
    "        return int(self.operand.pop())\n",
    "\n",
    "e = Evaluate()\n",
    "e.evaluate(\"231*+9-\")"
   ]
  }
 ],
 "metadata": {
  "kernelspec": {
   "display_name": "Python 3",
   "language": "python",
   "name": "python3"
  },
  "language_info": {
   "codemirror_mode": {
    "name": "ipython",
    "version": 3
   },
   "file_extension": ".py",
   "mimetype": "text/x-python",
   "name": "python",
   "nbconvert_exporter": "python",
   "pygments_lexer": "ipython3",
   "version": "3.6.6"
  }
 },
 "nbformat": 4,
 "nbformat_minor": 2
}
