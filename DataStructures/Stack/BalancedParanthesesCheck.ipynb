{
 "cells": [
  {
   "cell_type": "code",
   "execution_count": 5,
   "metadata": {},
   "outputs": [
    {
     "data": {
      "text/plain": [
       "True"
      ]
     },
     "execution_count": 5,
     "metadata": {},
     "output_type": "execute_result"
    }
   ],
   "source": [
    "class Stack(object):\n",
    "    \n",
    "    def __init__(self,size):\n",
    "        self.stack = []\n",
    "        self.size = size\n",
    "        self.TOP_OF_STACK = -1\n",
    "        \n",
    "    def isEmpty(self):\n",
    "        return len(self.stack)==0\n",
    "    \n",
    "    def push(self,data):\n",
    "        if self.TOP_OF_STACK < (self.size-1):\n",
    "            self.stack.append(data)\n",
    "            self.TOP_OF_STACK += 1\n",
    "            return\n",
    "        raise Exception('Stack is Full !')\n",
    "    \n",
    "    def pop(self):\n",
    "        if self.isEmpty():\n",
    "            raise Exception('Stack Underflow !')\n",
    "        else:\n",
    "            val =  self.stack.pop(self.TOP_OF_STACK)\n",
    "            self.TOP_OF_STACK -= 1\n",
    "            return val\n",
    "        \n",
    "        \n",
    "    def printStack(self):\n",
    "        for element in self.stack:\n",
    "            print(element,end= \" \")\n",
    "        print()\n",
    "        \n",
    "    def peek(self):\n",
    "        val = self.stack[self.TOP_OF_STACK]\n",
    "        return val\n",
    "        \n",
    "class Balanced :\n",
    "    \n",
    "    def __init__(self):\n",
    "        self.opening = [\"(\",\"{\",\"[\"]\n",
    "        self.closing = [\")\",\"}\",\"]\"]\n",
    "        \n",
    "    def checkBalanced(self,expr):\n",
    "        stck = Stack(len(expr))\n",
    "        for ele in expr:\n",
    "            if stck.isEmpty():\n",
    "                if ele in self.closing:\n",
    "                    return False\n",
    "                else:\n",
    "                    stck.push(ele)\n",
    "            else:\n",
    "                if ele in self.opening:\n",
    "                    stck.push(ele)\n",
    "                else:\n",
    "                    if self.opening.index(stck.peek()) != self.closing.index(ele):\n",
    "                        return False\n",
    "                    else:\n",
    "                        stck.pop()\n",
    "        if stck.isEmpty():\n",
    "            return True\n",
    "        return False\n",
    "    \n",
    "test = Balanced()\n",
    "test.checkBalanced(\"{()}[]\")"
   ]
  }
 ],
 "metadata": {
  "kernelspec": {
   "display_name": "Python 3",
   "language": "python",
   "name": "python3"
  },
  "language_info": {
   "codemirror_mode": {
    "name": "ipython",
    "version": 3
   },
   "file_extension": ".py",
   "mimetype": "text/x-python",
   "name": "python",
   "nbconvert_exporter": "python",
   "pygments_lexer": "ipython3",
   "version": "3.6.6"
  }
 },
 "nbformat": 4,
 "nbformat_minor": 2
}
