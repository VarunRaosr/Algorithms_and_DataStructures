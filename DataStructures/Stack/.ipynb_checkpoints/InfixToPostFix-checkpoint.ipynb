{
 "cells": [
  {
   "cell_type": "code",
   "execution_count": 4,
   "metadata": {
    "collapsed": true
   },
   "outputs": [],
   "source": [
    "class Stack(object):\n",
    "    \n",
    "    def __init__(self,size):\n",
    "        self.stack = []\n",
    "        self.size = size\n",
    "        self.TOP_OF_STACK = -1\n",
    "        \n",
    "    def isEmpty(self):\n",
    "        return len(self.stack)==0\n",
    "    \n",
    "    def push(self,data):\n",
    "        if self.TOP_OF_STACK < (self.size-1):\n",
    "            self.stack.append(data)\n",
    "            self.size += 1\n",
    "            self.TOP_OF_STACK += 1\n",
    "            return\n",
    "        raise Exception('Stack is Full !')\n",
    "    \n",
    "    def pop(self):\n",
    "        if self.isEmpty():\n",
    "            raise Exception('Stack Underflow !')\n",
    "        else:\n",
    "            val =  self.stack.pop(self.TOP_OF_STACK)\n",
    "            self.TOP_OF_STACK -= 1\n",
    "            return val\n",
    "      \n",
    "    def peek(self):\n",
    "        return self.stack[self.TOP_OF_STACK]\n",
    "        \n",
    "    def printStack(self):\n",
    "        for element in self.stack:\n",
    "            print(element,end= \" \")\n",
    "        print()\n",
    "        \n"
   ]
  },
  {
   "cell_type": "code",
   "execution_count": 30,
   "metadata": {},
   "outputs": [
    {
     "name": "stdout",
     "output_type": "stream",
     "text": [
      "a a\n",
      "* a\n",
      "b ab\n",
      "+ ab*\n",
      "c ab*c\n",
      "- ab*c+\n",
      "d ab*c+d\n",
      "/ ab*c+d\n",
      "e ab*c+de\n",
      "- ab*c+de/-\n",
      "f ab*c+de/-f\n"
     ]
    },
    {
     "data": {
      "text/plain": [
       "'ab*c+de/-f-'"
      ]
     },
     "execution_count": 30,
     "metadata": {},
     "output_type": "execute_result"
    }
   ],
   "source": [
    "class Conversion(object):\n",
    "    \n",
    "    def __init__(self):\n",
    "        self.precedence = {\"-\":1,\"+\":1,\"*\":2,\"/\":2,\"^\":3}\n",
    "        self.operators = set([\"-\",\"+\",\"*\",\"/\",\"^\"])\n",
    "        \n",
    "    def isOperand(self,op):\n",
    "#         print(self.precedence[\"-\"])\n",
    "        return op.isalpha()\n",
    "      \n",
    "    def infixToPostfix(self,expr):\n",
    "        stck = Stack(len(expr))\n",
    "        res = \"\"\n",
    "        for i in expr:\n",
    "            if self.isOperand(i):\n",
    "                res += str(i)\n",
    "            if i in self.operators:\n",
    "                \n",
    "                while (not stck.isEmpty() and self.precedence.get(str(stck.peek()),0)>=self.precedence.get(i) ):\n",
    "                    res += str(stck.pop())\n",
    "                stck.push(i)\n",
    "            print(i,res)\n",
    "        while not stck.isEmpty():\n",
    "            res += str(stck.pop())\n",
    "        return res    \n",
    "\n",
    "exp = \"a*b+c-d/e-f\"\n",
    "exp2 = \"\"\n",
    "obj = Conversion()\n",
    "obj.infixToPostfix(exp)"
   ]
  }
 ],
 "metadata": {
  "kernelspec": {
   "display_name": "Python 3",
   "language": "python",
   "name": "python3"
  },
  "language_info": {
   "codemirror_mode": {
    "name": "ipython",
    "version": 3
   },
   "file_extension": ".py",
   "mimetype": "text/x-python",
   "name": "python",
   "nbconvert_exporter": "python",
   "pygments_lexer": "ipython3",
   "version": "3.6.6"
  }
 },
 "nbformat": 4,
 "nbformat_minor": 2
}
