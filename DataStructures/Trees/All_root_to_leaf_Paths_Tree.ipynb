{
 "cells": [
  {
   "cell_type": "code",
   "execution_count": 16,
   "metadata": {},
   "outputs": [
    {
     "name": "stdout",
     "output_type": "stream",
     "text": [
      "[10, 8, 3]\n",
      "[10, 8, 5]\n",
      "[10, 8, 2, 2]\n",
      "[10, 8, 2, 7]\n"
     ]
    }
   ],
   "source": [
    "class TreeNode:\n",
    "    def __init__(self,data):\n",
    "        self.key = data\n",
    "        self.left = None\n",
    "        self.right = None\n",
    "        \n",
    "def all_paths_traversal(root,stck):\n",
    "    if root is None:\n",
    "        return \n",
    "    stck.append(root.key)\n",
    "    all_paths_traversal(root.left,stck)\n",
    "    if root.left is None and root.right is None:\n",
    "        print(stck)\n",
    "        stck.pop()\n",
    "    all_paths_traversal(root.right,stck)\n",
    "    \n",
    "def all_paths(root):\n",
    "    stck = []\n",
    "    all_paths_traversal(root,stck)\n",
    "        \n",
    "root = TreeNode(10) \n",
    "root.left = TreeNode(8) \n",
    "root.right = TreeNode(2) \n",
    "root.left.left = TreeNode(3) \n",
    "root.left.right = TreeNode(5) \n",
    "root.right.left = TreeNode(2) \n",
    "root.right.right = TreeNode(7)\n",
    "all_paths(root) "
   ]
  }
 ],
 "metadata": {
  "kernelspec": {
   "display_name": "Python 3",
   "language": "python",
   "name": "python3"
  },
  "language_info": {
   "codemirror_mode": {
    "name": "ipython",
    "version": 3
   },
   "file_extension": ".py",
   "mimetype": "text/x-python",
   "name": "python",
   "nbconvert_exporter": "python",
   "pygments_lexer": "ipython3",
   "version": "3.6.6"
  }
 },
 "nbformat": 4,
 "nbformat_minor": 2
}
