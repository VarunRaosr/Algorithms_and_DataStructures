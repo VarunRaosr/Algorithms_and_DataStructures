{
 "cells": [
  {
   "cell_type": "code",
   "execution_count": 16,
   "metadata": {},
   "outputs": [],
   "source": [
    "# Tree Node with next pointer\n",
    "class TreeNode:\n",
    "    def __init__(self,data):\n",
    "        self.key = data\n",
    "        self.left = None\n",
    "        self.right = None\n",
    "        self.next = None\n",
    "        \n",
    "def levelOrder(root,level):\n",
    "    q = []\n",
    "    if root is None:\n",
    "        return\n",
    "    q.append( (root,level) )\n",
    "    index = 0\n",
    "    while len(q)>0:\n",
    "        element = q.pop(0)\n",
    "        node = element[0]\n",
    "        level = element[1]\n",
    "        \n",
    "        if len(q)>0:\n",
    "            for first,second in zip(q[:-1],q[1:]):\n",
    "                if first[1]==second[1]:\n",
    "                    first[0].next = second[0]\n",
    "        \n",
    "        if node.left is not None:\n",
    "            q.append( (node.left,level+1) )\n",
    "        if node.right is not None:\n",
    "            q.append( (node.right,level+1) )\n",
    "        \n",
    "\n",
    "root = TreeNode(1) \n",
    "root.left = TreeNode(2) \n",
    "root.right = TreeNode(3) \n",
    "root.left.left = TreeNode(4) \n",
    "root.left.right = TreeNode(5) \n",
    "root.left.left.left = TreeNode(7)\n",
    "\n",
    "levelOrder(root,0)\n",
    "\n",
    "# root.right.next.key\n",
    "\n",
    "# Solution not working -> pending task"
   ]
  }
 ],
 "metadata": {
  "kernelspec": {
   "display_name": "Python 3",
   "language": "python",
   "name": "python3"
  },
  "language_info": {
   "codemirror_mode": {
    "name": "ipython",
    "version": 3
   },
   "file_extension": ".py",
   "mimetype": "text/x-python",
   "name": "python",
   "nbconvert_exporter": "python",
   "pygments_lexer": "ipython3",
   "version": "3.6.6"
  }
 },
 "nbformat": 4,
 "nbformat_minor": 2
}
