{
 "cells": [
  {
   "cell_type": "code",
   "execution_count": 14,
   "metadata": {},
   "outputs": [
    {
     "name": "stdout",
     "output_type": "stream",
     "text": [
      "4\n",
      "5\n",
      "8\n",
      "9\n"
     ]
    }
   ],
   "source": [
    "class TreeNode:\n",
    "    def __init__(self,data):\n",
    "        self.key = data\n",
    "        self.left = None\n",
    "        self.right = None\n",
    "        \n",
    "def KDistance(root,k):\n",
    "    if root is None:\n",
    "        return 0\n",
    "    if k==0:\n",
    "        print(root.key)\n",
    "        return\n",
    "    else:\n",
    "        KDistance(root.left,k-1)\n",
    "        KDistance(root.right,k-1)\n",
    "\n",
    "root = TreeNode(1) \n",
    "root.left = TreeNode(2) \n",
    "root.right = TreeNode(3) \n",
    "root.left.left = TreeNode(4) \n",
    "root.left.right = TreeNode(5) \n",
    "root.right.left = TreeNode(8) \n",
    "root.right.right = TreeNode(9) \n",
    "  \n",
    "KDistance(root, 2) "
   ]
  }
 ],
 "metadata": {
  "kernelspec": {
   "display_name": "Python 3",
   "language": "python",
   "name": "python3"
  },
  "language_info": {
   "codemirror_mode": {
    "name": "ipython",
    "version": 3
   },
   "file_extension": ".py",
   "mimetype": "text/x-python",
   "name": "python",
   "nbconvert_exporter": "python",
   "pygments_lexer": "ipython3",
   "version": "3.6.6"
  }
 },
 "nbformat": 4,
 "nbformat_minor": 2
}
