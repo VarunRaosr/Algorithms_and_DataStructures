{
 "cells": [
  {
   "cell_type": "code",
   "execution_count": 3,
   "metadata": {},
   "outputs": [
    {
     "name": "stdout",
     "output_type": "stream",
     "text": [
      "Inorder\n",
      "7 4 2 5 1 3 \n",
      "Postorder\n",
      "7 4 5 2 3 1 \n",
      "Preorder\n",
      "1 2 4 7 5 3 "
     ]
    }
   ],
   "source": [
    "# tree node\n",
    "class Node:\n",
    "    def __init__(self,data):\n",
    "        self.key = data\n",
    "        self.left = None\n",
    "        self.right = None\n",
    "     \n",
    "def printInorder(root):\n",
    "\n",
    "    if root:\n",
    "        printInorder(root.left)\n",
    "        print(root.key,end= \" \")\n",
    "        printInorder(root.right)\n",
    "            \n",
    "def postOrder(root):\n",
    "    \n",
    "    if root:\n",
    "        postOrder(root.left)\n",
    "        postOrder(root.right)\n",
    "        print(root.key,end=\" \")\n",
    "\n",
    "def preOrder(root):\n",
    "    \n",
    "    if root:\n",
    "        print(root.key,end=\" \")\n",
    "        preOrder(root.left)\n",
    "        preOrder(root.right)\n",
    "        \n",
    "root = Node(1) \n",
    "root.left      = Node(2) \n",
    "root.right     = Node(3) \n",
    "root.left.left  = Node(4) \n",
    "root.left.left.left = Node(7)\n",
    "root.left.right  = Node(5) \n",
    "\n",
    "\n",
    "print(\"Inorder\")\n",
    "printInorder(root)\n",
    "print(\"\\nPostorder\")\n",
    "postOrder(root)\n",
    "print(\"\\nPreorder\")\n",
    "preOrder(root)"
   ]
  },
  {
   "cell_type": "code",
   "execution_count": 10,
   "metadata": {},
   "outputs": [
    {
     "name": "stdout",
     "output_type": "stream",
     "text": [
      "1\n",
      "2\n",
      "3\n",
      "4\n",
      "5\n",
      "7\n"
     ]
    }
   ],
   "source": [
    "def levelOrder(root):\n",
    "    if root is None:\n",
    "        return\n",
    "    \n",
    "    queue = []\n",
    "    \n",
    "    queue.append(root)\n",
    "    \n",
    "    while(len(queue)>0):\n",
    "        \n",
    "        print(queue[0].key)\n",
    "        node = queue.pop(0)\n",
    "        \n",
    "        if node.left is not None:\n",
    "            queue.append(node.left)\n",
    "            \n",
    "        if node.right is not None:\n",
    "            queue.append(node.right)\n",
    "\n",
    "levelOrder(root)"
   ]
  }
 ],
 "metadata": {
  "kernelspec": {
   "display_name": "Python 3",
   "language": "python",
   "name": "python3"
  },
  "language_info": {
   "codemirror_mode": {
    "name": "ipython",
    "version": 3
   },
   "file_extension": ".py",
   "mimetype": "text/x-python",
   "name": "python",
   "nbconvert_exporter": "python",
   "pygments_lexer": "ipython3",
   "version": "3.6.6"
  }
 },
 "nbformat": 4,
 "nbformat_minor": 2
}
