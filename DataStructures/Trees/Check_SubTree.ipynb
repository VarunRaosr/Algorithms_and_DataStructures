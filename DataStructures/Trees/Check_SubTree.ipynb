{
 "cells": [
  {
   "cell_type": "code",
   "execution_count": 2,
   "metadata": {},
   "outputs": [
    {
     "data": {
      "text/plain": [
       "True"
      ]
     },
     "execution_count": 2,
     "metadata": {},
     "output_type": "execute_result"
    }
   ],
   "source": [
    "# check if binary tree is subtree of another binary Tree\n",
    "class TreeNode:\n",
    "    def __init__(self,data):\n",
    "        self.key = data\n",
    "        self.left = None\n",
    "        self.right = None\n",
    "        \n",
    "def isEqual(root1 , root2):\n",
    "    if root1 is None and root2 is None:\n",
    "        return True\n",
    "    if root1 is None or root2 is None:\n",
    "        return False\n",
    "    \n",
    "    return (root1.key == root2.key and isEqual(root1.left,root2.left) and isEqual(root1.right,root2.right))\n",
    "\n",
    "def checkSubTree(T1,T2):\n",
    "    \n",
    "    if T1 is None:\n",
    "        return False\n",
    "    if T2 is None:\n",
    "        return False\n",
    "    \n",
    "    if isEqual(T1,T2):\n",
    "        return True\n",
    "    \n",
    "    return checkSubTree(T1.left,T2) or checkSubTree(T1.right,T2)\n",
    "\n",
    "T = TreeNode(26) \n",
    "T.right = TreeNode(3) \n",
    "T.right.right  = TreeNode(3) \n",
    "T.left = TreeNode(10) \n",
    "T.left.left = TreeNode(4) \n",
    "T.left.left.right = TreeNode(30) \n",
    "T.left.right = TreeNode(6) \n",
    "\n",
    "\n",
    "S = TreeNode(10) \n",
    "S.right = TreeNode(6) \n",
    "S.left = TreeNode(4) \n",
    "S.left.right = TreeNode(30)\n",
    "\n",
    "checkSubTree(T,S)"
   ]
  }
 ],
 "metadata": {
  "kernelspec": {
   "display_name": "Python 3",
   "language": "python",
   "name": "python3"
  },
  "language_info": {
   "codemirror_mode": {
    "name": "ipython",
    "version": 3
   },
   "file_extension": ".py",
   "mimetype": "text/x-python",
   "name": "python",
   "nbconvert_exporter": "python",
   "pygments_lexer": "ipython3",
   "version": "3.6.6"
  }
 },
 "nbformat": 4,
 "nbformat_minor": 2
}
