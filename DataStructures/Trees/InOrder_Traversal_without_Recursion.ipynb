{
 "cells": [
  {
   "cell_type": "code",
   "execution_count": 2,
   "metadata": {},
   "outputs": [
    {
     "name": "stdout",
     "output_type": "stream",
     "text": [
      "4\n",
      "2\n",
      "5\n",
      "1\n",
      "3\n"
     ]
    }
   ],
   "source": [
    "class TreeNode:\n",
    "    def __init__(self,data):\n",
    "        self.key = data\n",
    "        self.left = None\n",
    "        self.right = None\n",
    "        \n",
    "def InOrder(root):\n",
    "    current = root\n",
    "    while current is not None:\n",
    "        if current.left is None:\n",
    "            print(current.key)\n",
    "            current = current.right\n",
    "        else:\n",
    "            pre = current.left\n",
    "            while pre.right != None and pre.right!= current:\n",
    "                pre = pre.right\n",
    "                \n",
    "            if pre.right is None:\n",
    "                pre.right = current\n",
    "                current = current.left\n",
    "                \n",
    "            else:\n",
    "                pre.right = None\n",
    "                print(current.key)\n",
    "                current = current.right\n",
    "                \n",
    "root = TreeNode(1) \n",
    "root.left = TreeNode(2) \n",
    "root.right = TreeNode(3) \n",
    "root.left.left = TreeNode(4) \n",
    "root.left.right = TreeNode(5) \n",
    "  \n",
    "InOrder(root) \n",
    "        "
   ]
  }
 ],
 "metadata": {
  "kernelspec": {
   "display_name": "Python 3",
   "language": "python",
   "name": "python3"
  },
  "language_info": {
   "codemirror_mode": {
    "name": "ipython",
    "version": 3
   },
   "file_extension": ".py",
   "mimetype": "text/x-python",
   "name": "python",
   "nbconvert_exporter": "python",
   "pygments_lexer": "ipython3",
   "version": "3.6.6"
  }
 },
 "nbformat": 4,
 "nbformat_minor": 2
}
