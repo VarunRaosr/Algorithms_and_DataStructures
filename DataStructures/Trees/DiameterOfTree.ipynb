{
 "cells": [
  {
   "cell_type": "code",
   "execution_count": 54,
   "metadata": {},
   "outputs": [
    {
     "data": {
      "text/plain": [
       "1"
      ]
     },
     "execution_count": 54,
     "metadata": {},
     "output_type": "execute_result"
    }
   ],
   "source": [
    "class TreeNode:\n",
    "    def __init__(self,data):\n",
    "        self.key = data\n",
    "        self.left = None\n",
    "        self.right = None\n",
    "        \n",
    "def diameterUtil(root):\n",
    "    if root is None:\n",
    "        return 0,0\n",
    "    \n",
    "    ld, lh = diameterUtil(root.left)\n",
    "    rd, rh = diameterUtil(root.right)\n",
    "    return max(lh + rh + 1, ld, rd), 1 + max(lh, rh)\n",
    "\n",
    "def diameter(root):\n",
    "    d,_ = diameterUtil(root)\n",
    "    return d\n",
    "    \n",
    "r = TreeNode(1)\n",
    "# r.left = TreeNode(2)\n",
    "# r.right = TreeNode(3)\n",
    "# r.left.left = TreeNode(4)\n",
    "# r.left.right = TreeNode(5)\n",
    "# r.right.right = TreeNode(6)\n",
    "# r.right.right.right = TreeNode(7)\n",
    "\n",
    "diameter(r)"
   ]
  }
 ],
 "metadata": {
  "kernelspec": {
   "display_name": "Python 3",
   "language": "python",
   "name": "python3"
  },
  "language_info": {
   "codemirror_mode": {
    "name": "ipython",
    "version": 3
   },
   "file_extension": ".py",
   "mimetype": "text/x-python",
   "name": "python",
   "nbconvert_exporter": "python",
   "pygments_lexer": "ipython3",
   "version": "3.6.6"
  }
 },
 "nbformat": 4,
 "nbformat_minor": 2
}
