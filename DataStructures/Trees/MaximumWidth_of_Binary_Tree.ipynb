{
 "cells": [
  {
   "cell_type": "code",
   "execution_count": 2,
   "metadata": {},
   "outputs": [
    {
     "data": {
      "text/plain": [
       "3"
      ]
     },
     "execution_count": 2,
     "metadata": {},
     "output_type": "execute_result"
    }
   ],
   "source": [
    "class TreeNode:\n",
    "    def __init__(self,data):\n",
    "        self.key = data\n",
    "        self.left = None\n",
    "        self.right = None\n",
    "        \n",
    "def calcWidth(root):\n",
    "    if root is None:\n",
    "        return 0\n",
    "    queue = []\n",
    "    maxWidth = 0\n",
    "    index = 0\n",
    "    count = 0\n",
    "    \n",
    "    queue.append(root)\n",
    "    \n",
    "    while (queue!= []):\n",
    "        count = len(queue)\n",
    "        maxWidth = max(maxWidth,count)\n",
    "        \n",
    "        while count>0:\n",
    "            node = queue.pop()\n",
    "            if node.left is not None:\n",
    "                queue.append(node.left)\n",
    "            if node.right is not None:\n",
    "                queue.append(node.right)\n",
    "            count -= 1\n",
    "    return maxWidth\n",
    "\n",
    "\n",
    "root = TreeNode(1) \n",
    "root.left = TreeNode(2) \n",
    "root.right = TreeNode(3) \n",
    "root.left.left = TreeNode(4) \n",
    "root.left.right = TreeNode(5) \n",
    "root.right.right = TreeNode(8) \n",
    "root.right.right.left = TreeNode(6) \n",
    "root.right.right.right = TreeNode(7)\n",
    "\n",
    "calcWidth(root)"
   ]
  }
 ],
 "metadata": {
  "kernelspec": {
   "display_name": "Python 3",
   "language": "python",
   "name": "python3"
  },
  "language_info": {
   "codemirror_mode": {
    "name": "ipython",
    "version": 3
   },
   "file_extension": ".py",
   "mimetype": "text/x-python",
   "name": "python",
   "nbconvert_exporter": "python",
   "pygments_lexer": "ipython3",
   "version": "3.6.6"
  }
 },
 "nbformat": 4,
 "nbformat_minor": 2
}
