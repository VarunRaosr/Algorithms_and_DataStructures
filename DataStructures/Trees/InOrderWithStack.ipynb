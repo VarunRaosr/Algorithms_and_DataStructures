{
 "cells": [
  {
   "cell_type": "code",
   "execution_count": null,
   "metadata": {
    "collapsed": true
   },
   "outputs": [],
   "source": [
    "class TreeNode:\n",
    "    def __init__(self,data):\n",
    "        self.key = data\n",
    "        self.left = None\n",
    "        self.right = None\n",
    "        \n",
    "def InOrder(root):\n",
    "    \n",
    "    current = root\n",
    "    stck = []\n",
    "    done = 0\n",
    "    \n",
    "    while(not done):\n",
    "        \n",
    "        if current is not None:\n",
    "            stck.append(current)\n",
    "            current = current.left\n",
    "            \n",
    "        else:\n",
    "            if len(s)>0:\n",
    "                current = s.pop()\n",
    "                print(current.key)\n",
    "                current = current.right\n",
    "            else:\n",
    "                done = 1\n",
    "                "
   ]
  }
 ],
 "metadata": {
  "kernelspec": {
   "display_name": "Python 3",
   "language": "python",
   "name": "python3"
  },
  "language_info": {
   "codemirror_mode": {
    "name": "ipython",
    "version": 3
   },
   "file_extension": ".py",
   "mimetype": "text/x-python",
   "name": "python",
   "nbconvert_exporter": "python",
   "pygments_lexer": "ipython3",
   "version": "3.6.6"
  }
 },
 "nbformat": 4,
 "nbformat_minor": 2
}
