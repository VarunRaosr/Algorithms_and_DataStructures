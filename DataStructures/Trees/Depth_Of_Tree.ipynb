{
 "cells": [
  {
   "cell_type": "code",
   "execution_count": 6,
   "metadata": {},
   "outputs": [
    {
     "data": {
      "text/plain": [
       "3"
      ]
     },
     "execution_count": 6,
     "metadata": {},
     "output_type": "execute_result"
    }
   ],
   "source": [
    "# Program to find maximum depth or height of a tree\n",
    "class TreeNode:\n",
    "    def __init__(self,data):\n",
    "        self.key = data\n",
    "        self.right = None\n",
    "        self.left = None\n",
    "        \n",
    "def depth(node):\n",
    "    if node is None:\n",
    "        return 0\n",
    "    l = 1+depth(node.left)\n",
    "    r = 1+depth(node.right)\n",
    "    return max(l,r)\n",
    "\n",
    "root = TreeNode(1) \n",
    "root.left = TreeNode(2) \n",
    "root.right = TreeNode(3) \n",
    "root.left.left = TreeNode(4) \n",
    "root.left.right = TreeNode(5) \n",
    "\n",
    "depth(root)"
   ]
  }
 ],
 "metadata": {
  "kernelspec": {
   "display_name": "Python 3",
   "language": "python",
   "name": "python3"
  },
  "language_info": {
   "codemirror_mode": {
    "name": "ipython",
    "version": 3
   },
   "file_extension": ".py",
   "mimetype": "text/x-python",
   "name": "python",
   "nbconvert_exporter": "python",
   "pygments_lexer": "ipython3",
   "version": "3.6.6"
  }
 },
 "nbformat": 4,
 "nbformat_minor": 2
}
