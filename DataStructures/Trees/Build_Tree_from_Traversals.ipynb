{
 "cells": [
  {
   "cell_type": "code",
   "execution_count": 10,
   "metadata": {},
   "outputs": [
    {
     "name": "stdout",
     "output_type": "stream",
     "text": [
      "A\n",
      "B\n"
     ]
    },
    {
     "data": {
      "text/plain": [
       "'C'"
      ]
     },
     "execution_count": 10,
     "metadata": {},
     "output_type": "execute_result"
    }
   ],
   "source": [
    "class TreeNode:\n",
    "    def __init__(self,data):\n",
    "        self.key = data\n",
    "        self.left = None\n",
    "        self.right = None\n",
    "        \n",
    "class Solution:\n",
    "    \n",
    "    def buildTree(self,inOrder,preOrder):\n",
    "        if len(preOrder)==0:\n",
    "            return\n",
    "        if len(preOrder)==1:\n",
    "            return TreeNode(preOrder[0])\n",
    "        return self.buildTreeRec(preOrder,inOrder,0,0,len(preOrder))\n",
    "           \n",
    "    def buildTreeRec(self,preorder,inorder,P,I,element):\n",
    "        if element==0:\n",
    "            return None\n",
    "        root = TreeNode(preorder[P])\n",
    "        div = 0;\n",
    "        for i in range(I, I+element):\n",
    "            if inorder[i] == preorder[P]:break\n",
    "            div += 1\n",
    "        root.left = self.buildTreeRec(preorder, inorder, P+1, I, div)\n",
    "        root.right = self.buildTreeRec(preorder, inorder, P+div+1, I+div+1, element-1-div)\n",
    "        return root\n",
    " \n",
    "inOrder = ['D', 'B', 'E', 'A', 'F', 'C'] \n",
    "preOrder = ['A', 'B', 'D', 'E', 'C', 'F'] \n",
    "\n",
    "test = Solution()\n",
    "res = test.buildTree(inOrder,preOrder)\n",
    "print(res.key)\n",
    "print(res.left.key)\n",
    "res.right.key"
   ]
  }
 ],
 "metadata": {
  "kernelspec": {
   "display_name": "Python 3",
   "language": "python",
   "name": "python3"
  },
  "language_info": {
   "codemirror_mode": {
    "name": "ipython",
    "version": 3
   },
   "file_extension": ".py",
   "mimetype": "text/x-python",
   "name": "python",
   "nbconvert_exporter": "python",
   "pygments_lexer": "ipython3",
   "version": "3.6.6"
  }
 },
 "nbformat": 4,
 "nbformat_minor": 2
}
