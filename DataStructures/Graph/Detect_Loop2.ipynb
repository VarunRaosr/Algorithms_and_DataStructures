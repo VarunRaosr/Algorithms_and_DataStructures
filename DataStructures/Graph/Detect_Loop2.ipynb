{
 "cells": [
  {
   "cell_type": "code",
   "execution_count": 5,
   "metadata": {},
   "outputs": [
    {
     "data": {
      "text/plain": [
       "True"
      ]
     },
     "execution_count": 5,
     "metadata": {},
     "output_type": "execute_result"
    }
   ],
   "source": [
    "from collections import defaultdict\n",
    "\n",
    "class Graph:\n",
    "    def __init__(self,vertices):\n",
    "        self.V = vertices\n",
    "        self.graph = defaultdict(list)\n",
    "        \n",
    "    def addEdge(self,u,v):\n",
    "        self.graph[u].append(v)\n",
    "        \n",
    "    def find_parent(self, parent,i): \n",
    "        if parent[i] == -1: \n",
    "            return i \n",
    "        if parent[i]!= -1: \n",
    "             return self.find_parent(parent,parent[i]) \n",
    "    \n",
    "    def union(self,parent,x,y): \n",
    "        x_set = self.find_parent(parent, x) \n",
    "        y_set = self.find_parent(parent, y) \n",
    "        parent[x_set] = y_set\n",
    "        \n",
    "    def isCyclic(self): \n",
    "        \n",
    "        parent = [-1]*(self.V) \n",
    "\n",
    "        for i in self.graph: \n",
    "            for j in self.graph[i]: \n",
    "                x = self.find_parent(parent, i)  \n",
    "                y = self.find_parent(parent, j) \n",
    "\n",
    "                if x == y: \n",
    "                    return True\n",
    "                self.union(parent,x,y) \n",
    "                \n",
    "g = Graph(3) \n",
    "g.addEdge(0, 1) \n",
    "g.addEdge(1, 2) \n",
    "g.addEdge(2, 0)\n",
    "\n",
    "g.isCyclic()"
   ]
  }
 ],
 "metadata": {
  "kernelspec": {
   "display_name": "Python 3",
   "language": "python",
   "name": "python3"
  },
  "language_info": {
   "codemirror_mode": {
    "name": "ipython",
    "version": 3
   },
   "file_extension": ".py",
   "mimetype": "text/x-python",
   "name": "python",
   "nbconvert_exporter": "python",
   "pygments_lexer": "ipython3",
   "version": "3.6.6"
  }
 },
 "nbformat": 4,
 "nbformat_minor": 2
}
