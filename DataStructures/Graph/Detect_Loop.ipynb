{
 "cells": [
  {
   "cell_type": "code",
   "execution_count": 1,
   "metadata": {},
   "outputs": [
    {
     "data": {
      "text/plain": [
       "True"
      ]
     },
     "execution_count": 1,
     "metadata": {},
     "output_type": "execute_result"
    }
   ],
   "source": [
    "from collections import defaultdict\n",
    "\n",
    "class Graph:\n",
    "    def __init__(self,vertices):\n",
    "        self.graph = defaultdict(list)\n",
    "        self.V = vertices\n",
    "        \n",
    "    def add_edge(self,u,v):\n",
    "        self.graph[u].append(v)\n",
    "        \n",
    "    def isCyclicUtil(self,v,visited,recStack):\n",
    "        visited[v] = True\n",
    "        recStack[v] = True\n",
    "        \n",
    "        for neighbor in self.graph[v] :\n",
    "            if visited[neighbor] == False:\n",
    "                if self.isCyclicUtil(neighbor,visited,recStack) == True:\n",
    "                    return True\n",
    "                \n",
    "            elif recStack[neighbor] == True:\n",
    "                return True\n",
    "            \n",
    "        recStack[v] = False\n",
    "        return False\n",
    "    \n",
    "    def isCyclic(self):\n",
    "        visited = [False]*self.V\n",
    "        recStack = [False]*self.V\n",
    "        for node in range(self.V):\n",
    "            if visited[node] == False:\n",
    "                if self.isCyclicUtil(node,visited,recStack) == True:\n",
    "                    return True\n",
    "        return False\n",
    "    \n",
    "g = Graph(4) \n",
    "g.add_edge(0, 1) \n",
    "g.add_edge(0, 2) \n",
    "g.add_edge(1, 2) \n",
    "g.add_edge(2, 0) \n",
    "g.add_edge(2, 3) \n",
    "g.add_edge(3, 3) \n",
    "        \n",
    "g.isCyclic()"
   ]
  }
 ],
 "metadata": {
  "kernelspec": {
   "display_name": "Python 3",
   "language": "python",
   "name": "python3"
  },
  "language_info": {
   "codemirror_mode": {
    "name": "ipython",
    "version": 3
   },
   "file_extension": ".py",
   "mimetype": "text/x-python",
   "name": "python",
   "nbconvert_exporter": "python",
   "pygments_lexer": "ipython3",
   "version": "3.6.6"
  }
 },
 "nbformat": 4,
 "nbformat_minor": 2
}
