{
 "cells": [
  {
   "cell_type": "code",
   "execution_count": 5,
   "metadata": {},
   "outputs": [
    {
     "name": "stdout",
     "output_type": "stream",
     "text": [
      "Adjacency list representation of graph for 0 is \n",
      " -> 4 -> 1\n",
      "Adjacency list representation of graph for 1 is \n",
      " -> 4 -> 3 -> 2 -> 0\n",
      "Adjacency list representation of graph for 2 is \n",
      " -> 3 -> 1\n",
      "Adjacency list representation of graph for 3 is \n",
      " -> 4 -> 2 -> 1\n",
      "Adjacency list representation of graph for 4 is \n",
      " -> 3 -> 1 -> 0\n"
     ]
    }
   ],
   "source": [
    "class Node:\n",
    "    def __init__(self,data):\n",
    "        self.vertex = data\n",
    "        self.next = None\n",
    "        \n",
    "class Graph:\n",
    "    def __init__(self,vertices):\n",
    "        self.V = vertices\n",
    "        self.graph = [None]*self.V\n",
    "        \n",
    "    def add_edge(self,src,dest):\n",
    "        node = Node(dest)\n",
    "        node.next = self.graph[src]\n",
    "        self.graph[src] = node\n",
    "        \n",
    "        node = Node(src)\n",
    "        node.next = self.graph[dest]\n",
    "        self.graph[dest]= node\n",
    "        \n",
    "    def printGraph(self):\n",
    "        for i in range(self.V):\n",
    "            temp = self.graph[i]\n",
    "            print(\"Adjacency list representation of graph for {} is \".format(i))\n",
    "            while temp:\n",
    "                print(\" -> {}\".format(temp.vertex),end=\"\")\n",
    "                temp = temp.next\n",
    "            print()\n",
    "            \n",
    "            \n",
    "graph = Graph(5) \n",
    "graph.add_edge(0, 1) \n",
    "graph.add_edge(0, 4) \n",
    "graph.add_edge(1, 2) \n",
    "graph.add_edge(1, 3) \n",
    "graph.add_edge(1, 4) \n",
    "graph.add_edge(2, 3) \n",
    "graph.add_edge(3, 4) \n",
    "\n",
    "graph.printGraph()"
   ]
  }
 ],
 "metadata": {
  "kernelspec": {
   "display_name": "Python 3",
   "language": "python",
   "name": "python3"
  },
  "language_info": {
   "codemirror_mode": {
    "name": "ipython",
    "version": 3
   },
   "file_extension": ".py",
   "mimetype": "text/x-python",
   "name": "python",
   "nbconvert_exporter": "python",
   "pygments_lexer": "ipython3",
   "version": "3.6.6"
  }
 },
 "nbformat": 4,
 "nbformat_minor": 2
}
