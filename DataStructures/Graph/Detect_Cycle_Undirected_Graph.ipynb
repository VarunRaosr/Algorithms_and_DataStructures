{
 "cells": [
  {
   "cell_type": "code",
   "execution_count": 2,
   "metadata": {},
   "outputs": [
    {
     "data": {
      "text/plain": [
       "True"
      ]
     },
     "execution_count": 2,
     "metadata": {},
     "output_type": "execute_result"
    }
   ],
   "source": [
    "from collections import defaultdict\n",
    "\n",
    "class Graph:\n",
    "    def __init__(self,vertices):\n",
    "        self.V = vertices\n",
    "        self.graph = defaultdict(list)\n",
    "        \n",
    "    def addEdge(self,v,w):\n",
    "        self.graph[v].append(w)\n",
    "        self.graph[w].append(w)\n",
    "        \n",
    "    def isCyclicUtil(self,v,visited,parent):\n",
    "        visited[v]  = True\n",
    "        \n",
    "        for i in self.graph[v]:\n",
    "            if visited[i]== False:\n",
    "                if self.isCyclicUtil(i,visited,parent):\n",
    "                    return True\n",
    "            \n",
    "            elif parent!= i:\n",
    "                return True\n",
    "            \n",
    "        return False\n",
    "    \n",
    "    def isCyclic(self):\n",
    "        visited=[False]*self.V\n",
    "        for i in range(self.V):\n",
    "            if visited[i] == False:\n",
    "                if self.isCyclicUtil(i,visited,-1)==True:\n",
    "                    return True\n",
    "                \n",
    "        return False\n",
    "    \n",
    "g = Graph(5) \n",
    "g.addEdge(1, 0) \n",
    "g.addEdge(0, 2) \n",
    "g.addEdge(2, 0) \n",
    "g.addEdge(0, 3) \n",
    "g.addEdge(3, 4) \n",
    "  \n",
    "g.isCyclic() \n",
    "                \n",
    "            "
   ]
  }
 ],
 "metadata": {
  "kernelspec": {
   "display_name": "Python 3",
   "language": "python",
   "name": "python3"
  },
  "language_info": {
   "codemirror_mode": {
    "name": "ipython",
    "version": 3
   },
   "file_extension": ".py",
   "mimetype": "text/x-python",
   "name": "python",
   "nbconvert_exporter": "python",
   "pygments_lexer": "ipython3",
   "version": "3.6.6"
  }
 },
 "nbformat": 4,
 "nbformat_minor": 2
}
