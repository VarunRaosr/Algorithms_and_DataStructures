{
 "cells": [
  {
   "cell_type": "code",
   "execution_count": 14,
   "metadata": {},
   "outputs": [
    {
     "data": {
      "text/plain": [
       "14"
      ]
     },
     "execution_count": 14,
     "metadata": {},
     "output_type": "execute_result"
    }
   ],
   "source": [
    "class Node:\n",
    "    def __init__(self,data):\n",
    "        self.key = data\n",
    "        self.left = None\n",
    "        self.right = None\n",
    "\n",
    "def insert( node, data): \n",
    "    if node is None: \n",
    "        return Node(data) \n",
    "    else: \n",
    "        if data <= node.key: \n",
    "            temp = insert(node.left, data) \n",
    "            node.left = temp  \n",
    "            temp.parent = node \n",
    "        else: \n",
    "            temp = insert(node.right, data) \n",
    "            node.right = temp  \n",
    "            temp.parent = node \n",
    "          \n",
    "        return node \n",
    "    \n",
    "def minElement(root):\n",
    "    current = root\n",
    "    if current.left is None:\n",
    "        return current\n",
    "    return minElement(current.left)\n",
    "    \n",
    "    \n",
    "def inOrderSuccessor(root,node):\n",
    "    \n",
    "    if node.right is not None:\n",
    "        return minElement(node.right)\n",
    "    \n",
    "    p = node.parent\n",
    "    while p is not None:\n",
    "        if node!= p.right:\n",
    "            break\n",
    "        node = p\n",
    "        p = p.parent\n",
    "    return p\n",
    "            \n",
    "\n",
    "root = Node(20)\n",
    "\n",
    "insert(root, 8) \n",
    "insert(root, 22) \n",
    "insert(root, 4) \n",
    "insert(root, 12) \n",
    "insert(root, 10)   \n",
    "insert(root, 14)   \n",
    "temp = root.left.right \n",
    "\n",
    "temp.key\n",
    "inOrderSuccessor(root,temp).key"
   ]
  }
 ],
 "metadata": {
  "kernelspec": {
   "display_name": "Python 3",
   "language": "python",
   "name": "python3"
  },
  "language_info": {
   "codemirror_mode": {
    "name": "ipython",
    "version": 3
   },
   "file_extension": ".py",
   "mimetype": "text/x-python",
   "name": "python",
   "nbconvert_exporter": "python",
   "pygments_lexer": "ipython3",
   "version": "3.6.6"
  }
 },
 "nbformat": 4,
 "nbformat_minor": 2
}
