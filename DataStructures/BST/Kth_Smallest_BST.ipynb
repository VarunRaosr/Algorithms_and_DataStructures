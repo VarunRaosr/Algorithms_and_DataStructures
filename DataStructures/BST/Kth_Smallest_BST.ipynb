{
 "cells": [
  {
   "cell_type": "code",
   "execution_count": 11,
   "metadata": {},
   "outputs": [
    {
     "data": {
      "text/plain": [
       "7"
      ]
     },
     "execution_count": 11,
     "metadata": {},
     "output_type": "execute_result"
    }
   ],
   "source": [
    "class Node:\n",
    "    def __init__(self,data):\n",
    "        self.key = data\n",
    "        self.left = None\n",
    "        self.right = None\n",
    "\n",
    "def insert(root,data):\n",
    "    node = Node(data)\n",
    "    if root is None:\n",
    "        root = node\n",
    "    else:\n",
    "        if root.key< data:\n",
    "            if root.right is None:\n",
    "                root.right = node\n",
    "            else:\n",
    "                insert(root.right,data)\n",
    "        else:\n",
    "            if root.left is None:\n",
    "                root.left = node\n",
    "            else:\n",
    "                insert(root.left,data)\n",
    "pass\n",
    "\n",
    "def KthSmallest(root,k):\n",
    "    stck = []\n",
    "    stck = inOrder(root,stck)\n",
    "    for i in range(k):\n",
    "        temp = stck[-1]\n",
    "        stck.pop()\n",
    "    return temp\n",
    "    \n",
    "def inOrder(root,stck):\n",
    "    if root is not None:\n",
    "        inOrder(root.left,stck)\n",
    "        stck.append( root.key )\n",
    "        inOrder(root.right,stck)\n",
    "        return stck\n",
    "\n",
    "root = Node(6)\n",
    "insert(root,4)\n",
    "insert(root,2)\n",
    "insert(root,7)\n",
    "insert(root,8)\n",
    "insert(root,11)\n",
    "insert(root,5)\n",
    "insert(root,3)\n",
    "\n",
    "KthSmallest(root,3)"
   ]
  }
 ],
 "metadata": {
  "kernelspec": {
   "display_name": "Python 3",
   "language": "python",
   "name": "python3"
  },
  "language_info": {
   "codemirror_mode": {
    "name": "ipython",
    "version": 3
   },
   "file_extension": ".py",
   "mimetype": "text/x-python",
   "name": "python",
   "nbconvert_exporter": "python",
   "pygments_lexer": "ipython3",
   "version": "3.6.6"
  }
 },
 "nbformat": 4,
 "nbformat_minor": 2
}
