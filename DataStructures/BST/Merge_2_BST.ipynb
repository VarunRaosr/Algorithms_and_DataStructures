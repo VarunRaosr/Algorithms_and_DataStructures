{
 "cells": [
  {
   "cell_type": "code",
   "execution_count": 18,
   "metadata": {},
   "outputs": [
    {
     "name": "stdout",
     "output_type": "stream",
     "text": [
      "0\n",
      "1\n",
      "2\n",
      "3\n",
      "4\n",
      "5\n",
      "6\n"
     ]
    }
   ],
   "source": [
    "class TreeNode:\n",
    "    def __init__(self,data):\n",
    "        self.key = data\n",
    "        self.left = None\n",
    "        self.right = None\n",
    "\n",
    "# Tree methods\n",
    "\n",
    "def insert(root,data):\n",
    "    if root is None:\n",
    "        root = TreeNode(data)\n",
    "        return\n",
    "    else:\n",
    "        if root.key > data:\n",
    "            if root.left is None:\n",
    "                root.left = TreeNode(data)\n",
    "            else:\n",
    "                insert(root.left,data)\n",
    "        else:\n",
    "            if root.right is None:\n",
    "                root.right = TreeNode(data)\n",
    "            else:\n",
    "                insert(root.right,data)\n",
    "\n",
    "def inOrder(root):\n",
    "    if root is not None:\n",
    "        inOrder(root.left)\n",
    "        print(root.key)\n",
    "        inOrder(root.right)\n",
    "    return\n",
    "\n",
    "def traverse(root,stck):\n",
    "    if root is not None:\n",
    "        traverse(root.left,stck)\n",
    "        stck.append(root.key)\n",
    "        traverse(root.right,stck)\n",
    "        return stck\n",
    "\n",
    "def Merge(root1,root2):\n",
    "    \n",
    "    if root1 is None:\n",
    "        inOrder(root2)\n",
    "        return\n",
    "    \n",
    "    if root2 is None:\n",
    "        inOrder(root1)\n",
    "        return\n",
    "    \n",
    "    s1 = []\n",
    "    s2 = []\n",
    "    index1 = 0\n",
    "    index2 = 0\n",
    "    \n",
    "    s1 = traverse(root1,s1)\n",
    "    s2 = traverse(root2,s2)\n",
    "    \n",
    "    while index1 < len(s1) and index2 <len(s2):\n",
    "        if s1[index1] < s2[index2]:\n",
    "            print(s1[index1])\n",
    "            index1 += 1\n",
    "        else:\n",
    "            print(s2[index2])\n",
    "            index2 += 1\n",
    "            \n",
    "    if index1 == len(s1):\n",
    "        for i in range(index2,len(s2)):\n",
    "            print(s2[i])\n",
    "    else:\n",
    "        for i in range(index1,len(s1)):\n",
    "            print(s1[i])\n",
    "    \n",
    "    \n",
    "pass\n",
    "root1 = TreeNode(3)\n",
    "insert(root1,1)\n",
    "insert(root1,5)\n",
    "\n",
    "root2 = TreeNode(4)\n",
    "insert(root2,2)\n",
    "insert(root2,6)\n",
    "insert(root2,0)\n",
    "\n",
    "Merge(root1,root2)"
   ]
  },
  {
   "cell_type": "code",
   "execution_count": null,
   "metadata": {
    "collapsed": true
   },
   "outputs": [],
   "source": []
  }
 ],
 "metadata": {
  "kernelspec": {
   "display_name": "Python 3",
   "language": "python",
   "name": "python3"
  },
  "language_info": {
   "codemirror_mode": {
    "name": "ipython",
    "version": 3
   },
   "file_extension": ".py",
   "mimetype": "text/x-python",
   "name": "python",
   "nbconvert_exporter": "python",
   "pygments_lexer": "ipython3",
   "version": "3.6.6"
  }
 },
 "nbformat": 4,
 "nbformat_minor": 2
}
