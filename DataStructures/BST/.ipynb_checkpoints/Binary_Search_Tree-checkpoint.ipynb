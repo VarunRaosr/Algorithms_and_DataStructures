{
 "cells": [
  {
   "cell_type": "code",
   "execution_count": 1,
   "metadata": {
    "collapsed": true
   },
   "outputs": [],
   "source": [
    "def search(root,key):\n",
    "    if root is None:\n",
    "        return\n",
    "    if root.key == key:\n",
    "        return root\n",
    "    if root.key < key:\n",
    "        search(root.left)\n",
    "    else:\n",
    "        search(root.right)"
   ]
  },
  {
   "cell_type": "code",
   "execution_count": 5,
   "metadata": {},
   "outputs": [
    {
     "data": {
      "text/plain": [
       "2"
      ]
     },
     "execution_count": 5,
     "metadata": {},
     "output_type": "execute_result"
    }
   ],
   "source": [
    "class TreeNode:\n",
    "    def __init__(self,data):\n",
    "        self.key = data\n",
    "        self.left = None\n",
    "        self.right = None\n",
    "        \n",
    "def insert(root,node):\n",
    "    if root is None:\n",
    "        root = node\n",
    "    else:\n",
    "        if root.key < node.key:\n",
    "            if root.right is None:\n",
    "                root.right = node\n",
    "            else:\n",
    "                insert(root.right,node)\n",
    "        else:\n",
    "            if root.left is None:\n",
    "                root.left = node\n",
    "            else:\n",
    "                insert(root.left,node)\n",
    "                \n",
    "                \n",
    "def inOrder(root):\n",
    "    if root is not None:\n",
    "        inOrder(root.left)\n",
    "        print(root.key)\n",
    "        inOrder(root.right)\n",
    "\n",
    "def minElement(root):\n",
    "    node = root\n",
    "    if node.left is None:\n",
    "        return node\n",
    "    return minElement(node.left)\n",
    "\n",
    "\n",
    "r = TreeNode(5) \n",
    "insert(r,TreeNode(3)) \n",
    "insert(r,TreeNode(2)) \n",
    "insert(r,TreeNode(4)) \n",
    "insert(r,TreeNode(7)) \n",
    "insert(r,TreeNode(6)) \n",
    "insert(r,TreeNode(8))\n",
    "\n",
    "# inOrder(r)\n",
    "minElement(r).key"
   ]
  },
  {
   "cell_type": "code",
   "execution_count": null,
   "metadata": {
    "collapsed": true
   },
   "outputs": [],
   "source": []
  }
 ],
 "metadata": {
  "kernelspec": {
   "display_name": "Python 3",
   "language": "python",
   "name": "python3"
  },
  "language_info": {
   "codemirror_mode": {
    "name": "ipython",
    "version": 3
   },
   "file_extension": ".py",
   "mimetype": "text/x-python",
   "name": "python",
   "nbconvert_exporter": "python",
   "pygments_lexer": "ipython3",
   "version": "3.6.6"
  }
 },
 "nbformat": 4,
 "nbformat_minor": 2
}
