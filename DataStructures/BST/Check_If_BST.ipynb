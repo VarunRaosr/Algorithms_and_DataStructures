{
 "cells": [
  {
   "cell_type": "code",
   "execution_count": 5,
   "metadata": {},
   "outputs": [
    {
     "data": {
      "text/plain": [
       "True"
      ]
     },
     "execution_count": 5,
     "metadata": {},
     "output_type": "execute_result"
    }
   ],
   "source": [
    "class TreeNode:\n",
    "    def __init__(self,data):\n",
    "        self.key = data\n",
    "        self.left = None\n",
    "        self.right = None\n",
    "        pass\n",
    "    pass\n",
    "\n",
    "def isBST(root):\n",
    "    sequence = []\n",
    "    sequence = inOrder(root,sequence)\n",
    "    for ind in range(1,len(sequence)):\n",
    "        if sequence[ind-1] >= sequence[ind]:\n",
    "            return False\n",
    "    return True\n",
    "\n",
    "def inOrder(root,arr):\n",
    "    if root is None:\n",
    "        return arr\n",
    "    else:\n",
    "        inOrder(root.left,arr)\n",
    "        arr.append(root.key)\n",
    "        inOrder(root.right,arr)\n",
    "        return arr\n",
    "\n",
    "root = TreeNode(4) \n",
    "root.left      = TreeNode(3) \n",
    "root.right     = TreeNode(5) \n",
    "root.left.left  = TreeNode(2) \n",
    "root.left.left.left = TreeNode(1)\n",
    "root.left.right  = TreeNode(3.5) \n",
    "\n",
    "isBST(root)\n"
   ]
  }
 ],
 "metadata": {
  "kernelspec": {
   "display_name": "Python 3",
   "language": "python",
   "name": "python3"
  },
  "language_info": {
   "codemirror_mode": {
    "name": "ipython",
    "version": 3
   },
   "file_extension": ".py",
   "mimetype": "text/x-python",
   "name": "python",
   "nbconvert_exporter": "python",
   "pygments_lexer": "ipython3",
   "version": "3.6.6"
  }
 },
 "nbformat": 4,
 "nbformat_minor": 2
}
