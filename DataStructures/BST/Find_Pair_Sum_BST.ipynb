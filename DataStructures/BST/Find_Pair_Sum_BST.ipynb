{
 "cells": [
  {
   "cell_type": "code",
   "execution_count": 3,
   "metadata": {},
   "outputs": [
    {
     "data": {
      "text/plain": [
       "(2, 11)"
      ]
     },
     "execution_count": 3,
     "metadata": {},
     "output_type": "execute_result"
    }
   ],
   "source": [
    "class TreeNode:\n",
    "    def __init__(self,data):\n",
    "        self.key = data\n",
    "        self.left = None\n",
    "        self.right = None\n",
    "        \n",
    "def inOrder(root):\n",
    "    if root is not None:\n",
    "        inOrder(root.left)\n",
    "        print(root.key)\n",
    "        inOrder(root.right)\n",
    "\n",
    "def insert(root,data):\n",
    "    if root is None:\n",
    "        root = TreeNode(data)\n",
    "    else:\n",
    "        if data < root.key:\n",
    "            if root.left is None:\n",
    "                root.left = TreeNode(data)\n",
    "            else:\n",
    "                insert(root.left,data)\n",
    "        else:\n",
    "            if root.right is None:\n",
    "                root.right = TreeNode(data)\n",
    "            else:\n",
    "                insert(root.right,data)\n",
    "                \n",
    "# End of Tree related methods and classes\n",
    "        \n",
    "def findPairs(root,total):\n",
    "    treelist = []\n",
    "    treelist = get_tree(root,treelist)\n",
    "    return findPairsUtil(treelist,total)\n",
    "\n",
    "def get_tree(root,stck):\n",
    "    if root is not None:\n",
    "        get_tree(root.left,stck)\n",
    "        stck.append(root.key)\n",
    "        get_tree(root.right,stck)\n",
    "        return stck\n",
    "        \n",
    "def findPairsUtil(arr,total):\n",
    "    n = len(arr)\n",
    "    start = 0\n",
    "    end = n-1\n",
    "    while start <end:\n",
    "        if arr[start]+arr[end]==total:\n",
    "            return (arr[start],arr[end])\n",
    "        elif arr[start]+arr[end]<total:\n",
    "            start += 1\n",
    "        else:\n",
    "            end -= 1\n",
    "    return (-1,-1)\n",
    "\n",
    "root = TreeNode(5)\n",
    "insert(root,4)\n",
    "insert(root,6)\n",
    "insert(root,2)\n",
    "insert(root,7)\n",
    "insert(root,3)\n",
    "insert(root,8)\n",
    "insert(root,1)\n",
    "insert(root,9)\n",
    "insert(root,11)\n",
    "\n",
    "findPairs(root,13)"
   ]
  },
  {
   "cell_type": "code",
   "execution_count": null,
   "metadata": {
    "collapsed": true
   },
   "outputs": [],
   "source": []
  }
 ],
 "metadata": {
  "kernelspec": {
   "display_name": "Python 3",
   "language": "python",
   "name": "python3"
  },
  "language_info": {
   "codemirror_mode": {
    "name": "ipython",
    "version": 3
   },
   "file_extension": ".py",
   "mimetype": "text/x-python",
   "name": "python",
   "nbconvert_exporter": "python",
   "pygments_lexer": "ipython3",
   "version": "3.6.6"
  }
 },
 "nbformat": 4,
 "nbformat_minor": 2
}
