{
 "cells": [
  {
   "cell_type": "code",
   "execution_count": 15,
   "metadata": {},
   "outputs": [
    {
     "data": {
      "text/plain": [
       "8"
      ]
     },
     "execution_count": 15,
     "metadata": {},
     "output_type": "execute_result"
    }
   ],
   "source": [
    "class TreeNode:\n",
    "    def __init__(self,data):\n",
    "        self.key = data\n",
    "        self.left = None\n",
    "        self.right = None\n",
    "    \n",
    "def findAncestors(root,key1,key2):\n",
    "    if root is None:\n",
    "        return None\n",
    "    if root.key < key1 and root.key < key2:\n",
    "        return findAncestors(root.right,key1,key2)\n",
    "    elif root.key > key1 and root.key > key2:\n",
    "        return findAncestors(root.left,key1,key2)\n",
    "    return root\n",
    "\n",
    "root = TreeNode(20) \n",
    "root.left = TreeNode(8) \n",
    "root.right = TreeNode(22) \n",
    "root.left.left = TreeNode(4) \n",
    "root.left.left.left = TreeNode(3) \n",
    "root.left.right = TreeNode(12) \n",
    "root.left.right.left = TreeNode(10) \n",
    "root.left.right.right = TreeNode(14) \n",
    "        \n",
    "findAncestors(root,3,14).key"
   ]
  }
 ],
 "metadata": {
  "kernelspec": {
   "display_name": "Python 3",
   "language": "python",
   "name": "python3"
  },
  "language_info": {
   "codemirror_mode": {
    "name": "ipython",
    "version": 3
   },
   "file_extension": ".py",
   "mimetype": "text/x-python",
   "name": "python",
   "nbconvert_exporter": "python",
   "pygments_lexer": "ipython3",
   "version": "3.6.6"
  }
 },
 "nbformat": 4,
 "nbformat_minor": 2
}
