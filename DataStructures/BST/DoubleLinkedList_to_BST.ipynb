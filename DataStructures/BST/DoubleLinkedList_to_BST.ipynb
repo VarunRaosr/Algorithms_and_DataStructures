{
 "cells": [
  {
   "cell_type": "code",
   "execution_count": 18,
   "metadata": {},
   "outputs": [
    {
     "name": "stdout",
     "output_type": "stream",
     "text": [
      "1\n",
      "2\n",
      "3\n",
      "4\n",
      "5\n"
     ]
    },
    {
     "data": {
      "text/plain": [
       "5"
      ]
     },
     "execution_count": 18,
     "metadata": {},
     "output_type": "execute_result"
    }
   ],
   "source": [
    "class Node:\n",
    "    def __init__(self,data):\n",
    "        self.data = data\n",
    "        self.next = None\n",
    "        self.prev = None\n",
    "        \n",
    "class DoubleLinkedList :\n",
    "    def __init__(self):\n",
    "        self.head = None\n",
    "        \n",
    "    def push(self,data):\n",
    "        if self.head is None:\n",
    "            self.head = Node(data)\n",
    "            return\n",
    "        else:\n",
    "            node = Node(data)\n",
    "            temp = self.head\n",
    "            while temp.next:\n",
    "                temp = temp.next\n",
    "            temp.next = node\n",
    "            node.prev = temp\n",
    "    \n",
    "    def printlist(self):\n",
    "        temp = self.head\n",
    "        while temp:\n",
    "            print(temp.data)\n",
    "            temp = temp.next\n",
    "        \n",
    "        \n",
    "    def length(self,node):\n",
    "        temp = node\n",
    "        count = 0\n",
    "        while temp:\n",
    "            count += 1\n",
    "            temp = temp.next\n",
    "        return count\n",
    "\n",
    "    def preOrder(self,root):\n",
    "        if root is not None:\n",
    "            print(root.data)\n",
    "            self.preOrder(root.left)\n",
    "            self.preOrder(root.right)\n",
    "            \n",
    "    def listToBST(self):\n",
    "        n = self.length(self.head)\n",
    "        return self.sortedBST(n)\n",
    "    \n",
    "    def sortedBST(self,n):\n",
    "        if n<=0:\n",
    "            return None\n",
    "        left = self.sortedBST(n//2)\n",
    "        root = self.head\n",
    "        root.prev = left\n",
    "        self.head = self.head.next\n",
    "        root.next = self.sortedBST(n - (n//2)-1)\n",
    "        return root\n",
    "\n",
    "    \n",
    "    \n",
    "        \n",
    "d1 = DoubleLinkedList()\n",
    "d1.push(1)\n",
    "d1.push(2)\n",
    "d1.push(3)\n",
    "d1.push(4)\n",
    "d1.push(5)\n",
    "\n",
    "d1.printlist()\n",
    "root = d1.listToBST()\n",
    "root.next.data"
   ]
  }
 ],
 "metadata": {
  "kernelspec": {
   "display_name": "Python 3",
   "language": "python",
   "name": "python3"
  },
  "language_info": {
   "codemirror_mode": {
    "name": "ipython",
    "version": 3
   },
   "file_extension": ".py",
   "mimetype": "text/x-python",
   "name": "python",
   "nbconvert_exporter": "python",
   "pygments_lexer": "ipython3",
   "version": "3.6.6"
  }
 },
 "nbformat": 4,
 "nbformat_minor": 2
}
