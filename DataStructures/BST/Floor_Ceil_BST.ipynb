{
 "cells": [
  {
   "cell_type": "code",
   "execution_count": 75,
   "metadata": {},
   "outputs": [
    {
     "data": {
      "text/plain": [
       "19"
      ]
     },
     "execution_count": 75,
     "metadata": {},
     "output_type": "execute_result"
    }
   ],
   "source": [
    "class TreeNode:\n",
    "    def __init__(self,data):\n",
    "        self.key = data\n",
    "        self.left = None\n",
    "        self.right = None\n",
    "        \n",
    "def ceil(root,key):\n",
    "    if root is None:\n",
    "        return -1\n",
    "    if root.key == key:\n",
    "        return root.key\n",
    "    if key > root.key:\n",
    "        return ceil(root.right,key)\n",
    "    \n",
    "    val = ceil(root.left,key)\n",
    "    \n",
    "    return val if val >= key else root.key\n",
    "\n",
    "def floor(root,key):\n",
    "    if root is None:\n",
    "        return 99\n",
    "    if root.key == key:\n",
    "        return root.key\n",
    "    if key < root.key:\n",
    "        return floor(root.left,key)\n",
    "    val =  floor(root.right,key)\n",
    "    if val > key:\n",
    "        return root.key\n",
    "    else:\n",
    "        return val\n",
    "\n",
    "def insert(root,data):\n",
    "    node = TreeNode(data)\n",
    "    if root is None:\n",
    "        root = node\n",
    "        return root\n",
    "    else:\n",
    "        if data < root.key:\n",
    "            if root.left is None:\n",
    "                root.left = node\n",
    "            else:\n",
    "                insert(root.left,data)\n",
    "        else:\n",
    "            if root.right is None:\n",
    "                root.right = node\n",
    "            else:\n",
    "                insert(root.right,data)\n",
    "pass\n",
    "def inorder(root):\n",
    "    if root is not None:\n",
    "        inorder(root.left)\n",
    "        print(root.key)\n",
    "        inorder(root.right)\n",
    "        \n",
    "r = TreeNode(15)\n",
    "insert(r,12)\n",
    "insert(r,1)\n",
    "insert(r,6)\n",
    "insert(r,3)\n",
    "insert(r,2)\n",
    "insert(r,34)\n",
    "insert(r,24)\n",
    "insert(r,10)\n",
    "insert(r,19)\n",
    "\n",
    "# print(\" BST \".center(40,\".\"))\n",
    "# inorder(r)\n",
    "# answer = ceil(r,15)\n",
    "# print(\" Element >= 15 is\".center(40,\".\"))\n",
    "# print(answer)\n",
    "# answer2 = ceil(r,16)\n",
    "# print(\" Element >= 16 is\".center(40,\".\"))\n",
    "# ceil(r,16)\n",
    "# print(\" \".center(50,\"*\"))\n",
    "floor(r,22)\n"
   ]
  }
 ],
 "metadata": {
  "kernelspec": {
   "display_name": "Python 3",
   "language": "python",
   "name": "python3"
  },
  "language_info": {
   "codemirror_mode": {
    "name": "ipython",
    "version": 3
   },
   "file_extension": ".py",
   "mimetype": "text/x-python",
   "name": "python",
   "nbconvert_exporter": "python",
   "pygments_lexer": "ipython3",
   "version": "3.6.6"
  }
 },
 "nbformat": 4,
 "nbformat_minor": 2
}
