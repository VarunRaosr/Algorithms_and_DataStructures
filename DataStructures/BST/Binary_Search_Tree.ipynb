{
 "cells": [
  {
   "cell_type": "code",
   "execution_count": 1,
   "metadata": {
    "collapsed": true
   },
   "outputs": [],
   "source": [
    "def search(root,key):\n",
    "    if root is None:\n",
    "        return\n",
    "    if root.key == key:\n",
    "        return root\n",
    "    if root.key < key:\n",
    "        search(root.left)\n",
    "    else:\n",
    "        search(root.right)"
   ]
  },
  {
   "cell_type": "code",
   "execution_count": 2,
   "metadata": {},
   "outputs": [
    {
     "name": "stdout",
     "output_type": "stream",
     "text": [
      "2\n",
      "3\n",
      "4\n",
      "5\n",
      "6\n",
      "8\n"
     ]
    }
   ],
   "source": [
    "class TreeNode:\n",
    "    def __init__(self,data):\n",
    "        self.key = data\n",
    "        self.left = None\n",
    "        self.right = None\n",
    "\n",
    "def insert(root,node):\n",
    "    if root is None:\n",
    "        root = node\n",
    "    else:\n",
    "        if root.key < node.key:\n",
    "            if root.right is None:\n",
    "                root.right = node\n",
    "            else:\n",
    "                insert(root.right,node)\n",
    "        else:\n",
    "            if root.left is None:\n",
    "                root.left = node\n",
    "            else:\n",
    "                insert(root.left,node)\n",
    "\n",
    "def inOrder(root):\n",
    "    if root is not None:\n",
    "        inOrder(root.left)\n",
    "        print(root.key)\n",
    "        inOrder(root.right)\n",
    "\n",
    "def minElement(root):\n",
    "    node = root\n",
    "    if node.left is None:\n",
    "        return node\n",
    "    return minElement(node.left)\n",
    "\n",
    "def deleteNode(root,key):\n",
    "    if root is None:\n",
    "        return root\n",
    "    if key <root.key:\n",
    "        root.left = deleteNode(root.left,key)\n",
    "    elif key > root.key:\n",
    "        root.right = deleteNode(root.right,key)\n",
    "    else:\n",
    "        if root.left is None:\n",
    "            temp = root.right\n",
    "            root = None\n",
    "            return temp\n",
    "        elif root.right is None:\n",
    "            temp = root.left\n",
    "            root = None\n",
    "            return temp\n",
    "        \n",
    "        temp = minElement(root.right)\n",
    "        \n",
    "        root.key = temp.key\n",
    "        \n",
    "        root.right = deleteNode(root.right,temp.key)\n",
    "    \n",
    "    return root\n",
    "\n",
    "\n",
    "r = TreeNode(5) \n",
    "insert(r,TreeNode(3)) \n",
    "insert(r,TreeNode(2)) \n",
    "insert(r,TreeNode(4)) \n",
    "insert(r,TreeNode(7)) \n",
    "insert(r,TreeNode(6)) \n",
    "insert(r,TreeNode(8))\n",
    "\n",
    "# inOrder(r)\n",
    "# minElement(r).key\n",
    "deleteNode(r,7)\n",
    "inOrder(r)"
   ]
  },
  {
   "cell_type": "code",
   "execution_count": null,
   "metadata": {
    "collapsed": true
   },
   "outputs": [],
   "source": []
  }
 ],
 "metadata": {
  "kernelspec": {
   "display_name": "Python 3",
   "language": "python",
   "name": "python3"
  },
  "language_info": {
   "codemirror_mode": {
    "name": "ipython",
    "version": 3
   },
   "file_extension": ".py",
   "mimetype": "text/x-python",
   "name": "python",
   "nbconvert_exporter": "python",
   "pygments_lexer": "ipython3",
   "version": "3.6.6"
  }
 },
 "nbformat": 4,
 "nbformat_minor": 2
}
