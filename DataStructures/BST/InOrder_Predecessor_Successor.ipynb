{
 "cells": [
  {
   "cell_type": "code",
   "execution_count": 27,
   "metadata": {},
   "outputs": [
    {
     "name": "stdout",
     "output_type": "stream",
     "text": [
      "20\n"
     ]
    },
    {
     "data": {
      "text/plain": [
       "40"
      ]
     },
     "execution_count": 27,
     "metadata": {},
     "output_type": "execute_result"
    }
   ],
   "source": [
    "class TreeNode:\n",
    "    def __init__(self,data):\n",
    "        self.key = data\n",
    "        self.left = None\n",
    "        self.right = None\n",
    "\n",
    "def insert(root,node):\n",
    "    if root is None:\n",
    "        root = node\n",
    "    else:\n",
    "        if root.key < node.key:\n",
    "            if root.right is None:\n",
    "                root.right = node\n",
    "            else:\n",
    "                insert(root.right,node)\n",
    "        else:\n",
    "            if root.left is None:\n",
    "                root.left = node\n",
    "            else:\n",
    "                insert(root.left,node)\n",
    "\n",
    "\n",
    "def PredAndSuccessor(root,key):\n",
    "    \n",
    "    if root is None:\n",
    "        return\n",
    "    \n",
    "    if root.key == key:\n",
    "        \n",
    "        \n",
    "        if root.left is not None:\n",
    "            temp = root.left\n",
    "            while temp.right is not None:\n",
    "                temp = temp.right\n",
    "            PredAndSuccessor.pred = temp\n",
    "            \n",
    "        if root.right is not None:\n",
    "            temp = root.right\n",
    "            while temp.left is not None:\n",
    "                temp = temp.left\n",
    "            PredAndSuccessor.succ = temp\n",
    "        \n",
    "        return\n",
    "    \n",
    "    if root.key > key:\n",
    "        PredAndSuccessor.succ = root\n",
    "        PredAndSuccessor(root.left,key)\n",
    "        \n",
    "    else:\n",
    "        PredAndSuccessor.pred = root\n",
    "        PredAndSuccessor(root.right,key)\n",
    "\n",
    "    \n",
    "root = TreeNode(50)\n",
    "insert(root, TreeNode(30) )\n",
    "insert(root, TreeNode(20) )\n",
    "insert(root, TreeNode(40) )\n",
    "insert(root, TreeNode(70) )\n",
    "insert(root, TreeNode(60) )\n",
    "insert(root, TreeNode(80))\n",
    "\n",
    "PredAndSuccessor.pred = None\n",
    "PredAndSuccessor.succ = None\n",
    "\n",
    "PredAndSuccessor(root,30)\n",
    "print(PredAndSuccessor.pred.key)\n",
    "PredAndSuccessor.succ.key\n"
   ]
  }
 ],
 "metadata": {
  "kernelspec": {
   "display_name": "Python 3",
   "language": "python",
   "name": "python3"
  },
  "language_info": {
   "codemirror_mode": {
    "name": "ipython",
    "version": 3
   },
   "file_extension": ".py",
   "mimetype": "text/x-python",
   "name": "python",
   "nbconvert_exporter": "python",
   "pygments_lexer": "ipython3",
   "version": "3.6.6"
  }
 },
 "nbformat": 4,
 "nbformat_minor": 2
}
