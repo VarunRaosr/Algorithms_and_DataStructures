{
 "cells": [
  {
   "cell_type": "code",
   "execution_count": 1,
   "metadata": {},
   "outputs": [
    {
     "data": {
      "text/plain": [
       "True"
      ]
     },
     "execution_count": 1,
     "metadata": {},
     "output_type": "execute_result"
    }
   ],
   "source": [
    "# linear search\n",
    "def linear_search(arr,ele):\n",
    "    return ele in arr\n",
    "\n",
    "linear_search([1,4,5,7,9,56],7)"
   ]
  },
  {
   "cell_type": "code",
   "execution_count": 2,
   "metadata": {},
   "outputs": [
    {
     "data": {
      "text/plain": [
       "1"
      ]
     },
     "execution_count": 2,
     "metadata": {},
     "output_type": "execute_result"
    }
   ],
   "source": [
    "# Binary Search\n",
    "def binary_search(arr,start,end,key):\n",
    "    if start>end:\n",
    "        return -1\n",
    "    mid = (start + end )//2\n",
    "\n",
    "    if arr[mid]== key:\n",
    "        return mid\n",
    "    \n",
    "    else:\n",
    "        if key > arr[mid]:\n",
    "            return binary_search(arr,mid+1,end,key)\n",
    "        else:\n",
    "            return binary_search(arr,start,mid-1,key)\n",
    "\n",
    "test = [1,4,5,7,9,56]\n",
    "binary_search(test,0,len(test)-1,4)"
   ]
  },
  {
   "cell_type": "code",
   "execution_count": 3,
   "metadata": {},
   "outputs": [
    {
     "data": {
      "text/plain": [
       "10"
      ]
     },
     "execution_count": 3,
     "metadata": {},
     "output_type": "execute_result"
    }
   ],
   "source": [
    "# jump Search\n",
    "def jump_search(arr,step,key):\n",
    "    index = 0\n",
    "    while index<len(arr):\n",
    "        if arr[index]==key:\n",
    "            return index\n",
    "        if arr[index]>key:\n",
    "            break\n",
    "        index += step\n",
    "    for i in range(index-1,index-step,-1):\n",
    "        if arr[i]==key:\n",
    "            return i\n",
    "    return -1\n",
    "\n",
    "test = [0, 1, 1, 2, 3, 5, 8, 13, 21, 34, 55, 89, 144, 233, 377, 610]\n",
    "jump_search(test,4,55)"
   ]
  },
  {
   "cell_type": "code",
   "execution_count": 5,
   "metadata": {},
   "outputs": [
    {
     "data": {
      "text/plain": [
       "11"
      ]
     },
     "execution_count": 5,
     "metadata": {},
     "output_type": "execute_result"
    }
   ],
   "source": [
    "def interpolation_search(arr,n,x):\n",
    "    low = 0\n",
    "    high = n-1\n",
    "    \n",
    "    while low<=high and x >=arr[low] and x <=arr[high]:\n",
    "        pos = low + int((x -  arr[low])*(high-low)/(arr[high]-arr[low]))\n",
    "\n",
    "        \n",
    "        if arr[pos]==x:\n",
    "            return pos\n",
    "        \n",
    "        if arr[pos]<x:\n",
    "            low = pos + 1\n",
    "            \n",
    "        if arr[pos]>x:\n",
    "            high = pos - 1\n",
    "            \n",
    "    return -1\n",
    "    \n",
    "test = [0, 1, 2, 3, 5, 6, 7, 8, 10 , 11 , 13, 14 , 15]\n",
    "interpolation_search(test,len(test),14)"
   ]
  },
  {
   "cell_type": "code",
   "execution_count": 9,
   "metadata": {},
   "outputs": [
    {
     "data": {
      "text/plain": [
       "5"
      ]
     },
     "execution_count": 9,
     "metadata": {},
     "output_type": "execute_result"
    }
   ],
   "source": [
    "def exponential_search(arr,n,key):\n",
    "    if arr[0]== key:\n",
    "        return 0\n",
    "    index = 1\n",
    "    \n",
    "    while index <n and arr[index] <= key:\n",
    "        index = index *2\n",
    "        \n",
    "    return binary_search(arr,int(index/2),min(index,n),key)\n",
    "\n",
    "test = [0, 1, 2, 3, 5, 6, 7, 8, 10 , 11 , 13, 14 , 15]\n",
    "exponential_search(test,len(test),6)\n"
   ]
  }
 ],
 "metadata": {
  "kernelspec": {
   "display_name": "Python 3",
   "language": "python",
   "name": "python3"
  },
  "language_info": {
   "codemirror_mode": {
    "name": "ipython",
    "version": 3
   },
   "file_extension": ".py",
   "mimetype": "text/x-python",
   "name": "python",
   "nbconvert_exporter": "python",
   "pygments_lexer": "ipython3",
   "version": "3.6.6"
  }
 },
 "nbformat": 4,
 "nbformat_minor": 2
}
