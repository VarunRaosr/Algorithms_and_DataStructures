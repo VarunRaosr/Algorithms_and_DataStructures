{
 "cells": [
  {
   "cell_type": "code",
   "execution_count": 1,
   "metadata": {},
   "outputs": [
    {
     "data": {
      "text/plain": [
       "[11, 12, 22, 25, 64]"
      ]
     },
     "execution_count": 1,
     "metadata": {},
     "output_type": "execute_result"
    }
   ],
   "source": [
    "def selection_sort(arr):\n",
    "    for i in range(len(arr)):\n",
    "        min_index = i\n",
    "        for j in range(i+1,len(arr)):\n",
    "            if arr[min_index]>arr[j]:\n",
    "                min_index = j\n",
    "\n",
    "        arr[i],arr[min_index] = arr[min_index], arr[i]\n",
    "    return arr\n",
    "\n",
    "A = [64, 25, 12, 22, 11] \n",
    "selection_sort(A)"
   ]
  },
  {
   "cell_type": "code",
   "execution_count": 2,
   "metadata": {},
   "outputs": [
    {
     "data": {
      "text/plain": [
       "[11, 12, 22, 25, 64]"
      ]
     },
     "execution_count": 2,
     "metadata": {},
     "output_type": "execute_result"
    }
   ],
   "source": [
    "def bubble_sort(arr):\n",
    "    n = len(arr)\n",
    "    \n",
    "    for i in range(n):\n",
    "        \n",
    "        for j in range(0,n-i-1):\n",
    "            if arr[j] > arr[j+1]:\n",
    "                arr[j],arr[j+1] = arr[j+1] , arr[j]\n",
    "    return arr\n",
    "\n",
    "bubble_sort(A)"
   ]
  },
  {
   "cell_type": "code",
   "execution_count": 4,
   "metadata": {},
   "outputs": [
    {
     "data": {
      "text/plain": [
       "[11, 12, 22, 25, 64]"
      ]
     },
     "execution_count": 4,
     "metadata": {},
     "output_type": "execute_result"
    }
   ],
   "source": [
    "def insertion_sort(arr):\n",
    "    \n",
    "    for i in range(1,len(arr)):\n",
    "        key = arr[i]\n",
    "        j = i-1\n",
    "        \n",
    "        while j>=0 and key < arr[j]:\n",
    "            arr[j+1] = arr[j]\n",
    "            j -= 1\n",
    "        arr[j+1]= key\n",
    "    return arr\n",
    "\n",
    "insertion_sort(A)"
   ]
  }
 ],
 "metadata": {
  "kernelspec": {
   "display_name": "Python 3",
   "language": "python",
   "name": "python3"
  },
  "language_info": {
   "codemirror_mode": {
    "name": "ipython",
    "version": 3
   },
   "file_extension": ".py",
   "mimetype": "text/x-python",
   "name": "python",
   "nbconvert_exporter": "python",
   "pygments_lexer": "ipython3",
   "version": "3.6.6"
  }
 },
 "nbformat": 4,
 "nbformat_minor": 2
}
